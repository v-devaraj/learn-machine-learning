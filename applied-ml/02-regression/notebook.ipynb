{
 "cells": [
  {
   "cell_type": "markdown",
   "id": "3d72b9cb",
   "metadata": {},
   "source": [
    "# Machine Learning for Regression- Car price prediction"
   ]
  },
  {
   "cell_type": "markdown",
   "id": "005b3b5f",
   "metadata": {},
   "source": [
    "### Data preparation"
   ]
  },
  {
   "cell_type": "code",
   "execution_count": 132,
   "id": "081f1106",
   "metadata": {},
   "outputs": [],
   "source": [
    "# import dependencies\n",
    "import numpy as np\n",
    "import pandas as pd\n",
    "import matplotlib.pyplot as plt\n",
    "import seaborn as sns\n",
    "%matplotlib inline"
   ]
  },
  {
   "cell_type": "code",
   "execution_count": 15,
   "id": "f030b03c",
   "metadata": {},
   "outputs": [],
   "source": [
    "url = 'https://raw.githubusercontent.com/v-devaraj/learn-machine-learning/refs/heads/main/applied-ml/02-regression/data/data.csv'"
   ]
  },
  {
   "cell_type": "code",
   "execution_count": 18,
   "id": "e1ced7a8",
   "metadata": {},
   "outputs": [],
   "source": [
    "df = pd.read_csv(url)"
   ]
  },
  {
   "cell_type": "code",
   "execution_count": 20,
   "id": "f8b6564c",
   "metadata": {},
   "outputs": [
    {
     "data": {
      "text/html": [
       "<div>\n",
       "<style scoped>\n",
       "    .dataframe tbody tr th:only-of-type {\n",
       "        vertical-align: middle;\n",
       "    }\n",
       "\n",
       "    .dataframe tbody tr th {\n",
       "        vertical-align: top;\n",
       "    }\n",
       "\n",
       "    .dataframe thead th {\n",
       "        text-align: right;\n",
       "    }\n",
       "</style>\n",
       "<table border=\"1\" class=\"dataframe\">\n",
       "  <thead>\n",
       "    <tr style=\"text-align: right;\">\n",
       "      <th></th>\n",
       "      <th>Make</th>\n",
       "      <th>Model</th>\n",
       "      <th>Year</th>\n",
       "      <th>Engine Fuel Type</th>\n",
       "      <th>Engine HP</th>\n",
       "      <th>Engine Cylinders</th>\n",
       "      <th>Transmission Type</th>\n",
       "      <th>Driven_Wheels</th>\n",
       "      <th>Number of Doors</th>\n",
       "      <th>Market Category</th>\n",
       "      <th>Vehicle Size</th>\n",
       "      <th>Vehicle Style</th>\n",
       "      <th>highway MPG</th>\n",
       "      <th>city mpg</th>\n",
       "      <th>Popularity</th>\n",
       "      <th>MSRP</th>\n",
       "    </tr>\n",
       "  </thead>\n",
       "  <tbody>\n",
       "    <tr>\n",
       "      <th>0</th>\n",
       "      <td>BMW</td>\n",
       "      <td>1 Series M</td>\n",
       "      <td>2011</td>\n",
       "      <td>premium unleaded (required)</td>\n",
       "      <td>335.0</td>\n",
       "      <td>6.0</td>\n",
       "      <td>MANUAL</td>\n",
       "      <td>rear wheel drive</td>\n",
       "      <td>2.0</td>\n",
       "      <td>Factory Tuner,Luxury,High-Performance</td>\n",
       "      <td>Compact</td>\n",
       "      <td>Coupe</td>\n",
       "      <td>26</td>\n",
       "      <td>19</td>\n",
       "      <td>3916</td>\n",
       "      <td>46135</td>\n",
       "    </tr>\n",
       "    <tr>\n",
       "      <th>1</th>\n",
       "      <td>BMW</td>\n",
       "      <td>1 Series</td>\n",
       "      <td>2011</td>\n",
       "      <td>premium unleaded (required)</td>\n",
       "      <td>300.0</td>\n",
       "      <td>6.0</td>\n",
       "      <td>MANUAL</td>\n",
       "      <td>rear wheel drive</td>\n",
       "      <td>2.0</td>\n",
       "      <td>Luxury,Performance</td>\n",
       "      <td>Compact</td>\n",
       "      <td>Convertible</td>\n",
       "      <td>28</td>\n",
       "      <td>19</td>\n",
       "      <td>3916</td>\n",
       "      <td>40650</td>\n",
       "    </tr>\n",
       "    <tr>\n",
       "      <th>2</th>\n",
       "      <td>BMW</td>\n",
       "      <td>1 Series</td>\n",
       "      <td>2011</td>\n",
       "      <td>premium unleaded (required)</td>\n",
       "      <td>300.0</td>\n",
       "      <td>6.0</td>\n",
       "      <td>MANUAL</td>\n",
       "      <td>rear wheel drive</td>\n",
       "      <td>2.0</td>\n",
       "      <td>Luxury,High-Performance</td>\n",
       "      <td>Compact</td>\n",
       "      <td>Coupe</td>\n",
       "      <td>28</td>\n",
       "      <td>20</td>\n",
       "      <td>3916</td>\n",
       "      <td>36350</td>\n",
       "    </tr>\n",
       "    <tr>\n",
       "      <th>3</th>\n",
       "      <td>BMW</td>\n",
       "      <td>1 Series</td>\n",
       "      <td>2011</td>\n",
       "      <td>premium unleaded (required)</td>\n",
       "      <td>230.0</td>\n",
       "      <td>6.0</td>\n",
       "      <td>MANUAL</td>\n",
       "      <td>rear wheel drive</td>\n",
       "      <td>2.0</td>\n",
       "      <td>Luxury,Performance</td>\n",
       "      <td>Compact</td>\n",
       "      <td>Coupe</td>\n",
       "      <td>28</td>\n",
       "      <td>18</td>\n",
       "      <td>3916</td>\n",
       "      <td>29450</td>\n",
       "    </tr>\n",
       "    <tr>\n",
       "      <th>4</th>\n",
       "      <td>BMW</td>\n",
       "      <td>1 Series</td>\n",
       "      <td>2011</td>\n",
       "      <td>premium unleaded (required)</td>\n",
       "      <td>230.0</td>\n",
       "      <td>6.0</td>\n",
       "      <td>MANUAL</td>\n",
       "      <td>rear wheel drive</td>\n",
       "      <td>2.0</td>\n",
       "      <td>Luxury</td>\n",
       "      <td>Compact</td>\n",
       "      <td>Convertible</td>\n",
       "      <td>28</td>\n",
       "      <td>18</td>\n",
       "      <td>3916</td>\n",
       "      <td>34500</td>\n",
       "    </tr>\n",
       "  </tbody>\n",
       "</table>\n",
       "</div>"
      ],
      "text/plain": [
       "  Make       Model  Year             Engine Fuel Type  Engine HP  \\\n",
       "0  BMW  1 Series M  2011  premium unleaded (required)      335.0   \n",
       "1  BMW    1 Series  2011  premium unleaded (required)      300.0   \n",
       "2  BMW    1 Series  2011  premium unleaded (required)      300.0   \n",
       "3  BMW    1 Series  2011  premium unleaded (required)      230.0   \n",
       "4  BMW    1 Series  2011  premium unleaded (required)      230.0   \n",
       "\n",
       "   Engine Cylinders Transmission Type     Driven_Wheels  Number of Doors  \\\n",
       "0               6.0            MANUAL  rear wheel drive              2.0   \n",
       "1               6.0            MANUAL  rear wheel drive              2.0   \n",
       "2               6.0            MANUAL  rear wheel drive              2.0   \n",
       "3               6.0            MANUAL  rear wheel drive              2.0   \n",
       "4               6.0            MANUAL  rear wheel drive              2.0   \n",
       "\n",
       "                         Market Category Vehicle Size Vehicle Style  \\\n",
       "0  Factory Tuner,Luxury,High-Performance      Compact         Coupe   \n",
       "1                     Luxury,Performance      Compact   Convertible   \n",
       "2                Luxury,High-Performance      Compact         Coupe   \n",
       "3                     Luxury,Performance      Compact         Coupe   \n",
       "4                                 Luxury      Compact   Convertible   \n",
       "\n",
       "   highway MPG  city mpg  Popularity   MSRP  \n",
       "0           26        19        3916  46135  \n",
       "1           28        19        3916  40650  \n",
       "2           28        20        3916  36350  \n",
       "3           28        18        3916  29450  \n",
       "4           28        18        3916  34500  "
      ]
     },
     "execution_count": 20,
     "metadata": {},
     "output_type": "execute_result"
    }
   ],
   "source": [
    "df.head()"
   ]
  },
  {
   "cell_type": "markdown",
   "id": "dfd5febf",
   "metadata": {},
   "source": [
    "- column names are slightly inconsistent.\n",
    "- Let us make them consistent."
   ]
  },
  {
   "cell_type": "code",
   "execution_count": 24,
   "id": "b2d0c3ff",
   "metadata": {},
   "outputs": [],
   "source": [
    "df.columns = df.columns.str.lower().str.replace(' ', '_')"
   ]
  },
  {
   "cell_type": "code",
   "execution_count": 26,
   "id": "59e2d78c",
   "metadata": {},
   "outputs": [
    {
     "data": {
      "text/html": [
       "<div>\n",
       "<style scoped>\n",
       "    .dataframe tbody tr th:only-of-type {\n",
       "        vertical-align: middle;\n",
       "    }\n",
       "\n",
       "    .dataframe tbody tr th {\n",
       "        vertical-align: top;\n",
       "    }\n",
       "\n",
       "    .dataframe thead th {\n",
       "        text-align: right;\n",
       "    }\n",
       "</style>\n",
       "<table border=\"1\" class=\"dataframe\">\n",
       "  <thead>\n",
       "    <tr style=\"text-align: right;\">\n",
       "      <th></th>\n",
       "      <th>make</th>\n",
       "      <th>model</th>\n",
       "      <th>year</th>\n",
       "      <th>engine_fuel_type</th>\n",
       "      <th>engine_hp</th>\n",
       "      <th>engine_cylinders</th>\n",
       "      <th>transmission_type</th>\n",
       "      <th>driven_wheels</th>\n",
       "      <th>number_of_doors</th>\n",
       "      <th>market_category</th>\n",
       "      <th>vehicle_size</th>\n",
       "      <th>vehicle_style</th>\n",
       "      <th>highway_mpg</th>\n",
       "      <th>city_mpg</th>\n",
       "      <th>popularity</th>\n",
       "      <th>msrp</th>\n",
       "    </tr>\n",
       "  </thead>\n",
       "  <tbody>\n",
       "    <tr>\n",
       "      <th>0</th>\n",
       "      <td>BMW</td>\n",
       "      <td>1 Series M</td>\n",
       "      <td>2011</td>\n",
       "      <td>premium unleaded (required)</td>\n",
       "      <td>335.0</td>\n",
       "      <td>6.0</td>\n",
       "      <td>MANUAL</td>\n",
       "      <td>rear wheel drive</td>\n",
       "      <td>2.0</td>\n",
       "      <td>Factory Tuner,Luxury,High-Performance</td>\n",
       "      <td>Compact</td>\n",
       "      <td>Coupe</td>\n",
       "      <td>26</td>\n",
       "      <td>19</td>\n",
       "      <td>3916</td>\n",
       "      <td>46135</td>\n",
       "    </tr>\n",
       "    <tr>\n",
       "      <th>1</th>\n",
       "      <td>BMW</td>\n",
       "      <td>1 Series</td>\n",
       "      <td>2011</td>\n",
       "      <td>premium unleaded (required)</td>\n",
       "      <td>300.0</td>\n",
       "      <td>6.0</td>\n",
       "      <td>MANUAL</td>\n",
       "      <td>rear wheel drive</td>\n",
       "      <td>2.0</td>\n",
       "      <td>Luxury,Performance</td>\n",
       "      <td>Compact</td>\n",
       "      <td>Convertible</td>\n",
       "      <td>28</td>\n",
       "      <td>19</td>\n",
       "      <td>3916</td>\n",
       "      <td>40650</td>\n",
       "    </tr>\n",
       "  </tbody>\n",
       "</table>\n",
       "</div>"
      ],
      "text/plain": [
       "  make       model  year             engine_fuel_type  engine_hp  \\\n",
       "0  BMW  1 Series M  2011  premium unleaded (required)      335.0   \n",
       "1  BMW    1 Series  2011  premium unleaded (required)      300.0   \n",
       "\n",
       "   engine_cylinders transmission_type     driven_wheels  number_of_doors  \\\n",
       "0               6.0            MANUAL  rear wheel drive              2.0   \n",
       "1               6.0            MANUAL  rear wheel drive              2.0   \n",
       "\n",
       "                         market_category vehicle_size vehicle_style  \\\n",
       "0  Factory Tuner,Luxury,High-Performance      Compact         Coupe   \n",
       "1                     Luxury,Performance      Compact   Convertible   \n",
       "\n",
       "   highway_mpg  city_mpg  popularity   msrp  \n",
       "0           26        19        3916  46135  \n",
       "1           28        19        3916  40650  "
      ]
     },
     "execution_count": 26,
     "metadata": {},
     "output_type": "execute_result"
    }
   ],
   "source": [
    "df.head(2)"
   ]
  },
  {
   "cell_type": "markdown",
   "id": "fb15b333",
   "metadata": {},
   "source": [
    "- note that even some of the values are inconsistent. For example, transmiaaion_type has values in all capitals and engine fuel_type has values in small letters. We will take care of these inconsistencies."
   ]
  },
  {
   "cell_type": "code",
   "execution_count": 31,
   "metadata": {},
   "outputs": [
    {
     "data": {
      "text/plain": [
       "['make',\n",
       " 'model',\n",
       " 'engine_fuel_type',\n",
       " 'transmission_type',\n",
       " 'driven_wheels',\n",
       " 'market_category',\n",
       " 'vehicle_size',\n",
       " 'vehicle_style']"
      ]
     },
     "execution_count": 31,
     "metadata": {},
     "output_type": "execute_result"
    }
   ],
   "source": [
    "object_columns = list(df.dtypes[df.dtypes == 'object'].index)\n",
    "object_columns"
   ]
  },
  {
   "cell_type": "code",
   "execution_count": 35,
   "id": "af1daac2",
   "metadata": {},
   "outputs": [],
   "source": [
    "for col in object_columns:\n",
    "    df[col] = df[col].str.lower().str.replace(' ', '_')"
   ]
  },
  {
   "cell_type": "code",
   "execution_count": 36,
   "id": "9d6db42e",
   "metadata": {},
   "outputs": [
    {
     "data": {
      "text/html": [
       "<div>\n",
       "<style scoped>\n",
       "    .dataframe tbody tr th:only-of-type {\n",
       "        vertical-align: middle;\n",
       "    }\n",
       "\n",
       "    .dataframe tbody tr th {\n",
       "        vertical-align: top;\n",
       "    }\n",
       "\n",
       "    .dataframe thead th {\n",
       "        text-align: right;\n",
       "    }\n",
       "</style>\n",
       "<table border=\"1\" class=\"dataframe\">\n",
       "  <thead>\n",
       "    <tr style=\"text-align: right;\">\n",
       "      <th></th>\n",
       "      <th>make</th>\n",
       "      <th>model</th>\n",
       "      <th>year</th>\n",
       "      <th>engine_fuel_type</th>\n",
       "      <th>engine_hp</th>\n",
       "      <th>engine_cylinders</th>\n",
       "      <th>transmission_type</th>\n",
       "      <th>driven_wheels</th>\n",
       "      <th>number_of_doors</th>\n",
       "      <th>market_category</th>\n",
       "      <th>vehicle_size</th>\n",
       "      <th>vehicle_style</th>\n",
       "      <th>highway_mpg</th>\n",
       "      <th>city_mpg</th>\n",
       "      <th>popularity</th>\n",
       "      <th>msrp</th>\n",
       "    </tr>\n",
       "  </thead>\n",
       "  <tbody>\n",
       "    <tr>\n",
       "      <th>0</th>\n",
       "      <td>bmw</td>\n",
       "      <td>1_series_m</td>\n",
       "      <td>2011</td>\n",
       "      <td>premium_unleaded_(required)</td>\n",
       "      <td>335.0</td>\n",
       "      <td>6.0</td>\n",
       "      <td>manual</td>\n",
       "      <td>rear_wheel_drive</td>\n",
       "      <td>2.0</td>\n",
       "      <td>factory_tuner,luxury,high-performance</td>\n",
       "      <td>compact</td>\n",
       "      <td>coupe</td>\n",
       "      <td>26</td>\n",
       "      <td>19</td>\n",
       "      <td>3916</td>\n",
       "      <td>46135</td>\n",
       "    </tr>\n",
       "    <tr>\n",
       "      <th>1</th>\n",
       "      <td>bmw</td>\n",
       "      <td>1_series</td>\n",
       "      <td>2011</td>\n",
       "      <td>premium_unleaded_(required)</td>\n",
       "      <td>300.0</td>\n",
       "      <td>6.0</td>\n",
       "      <td>manual</td>\n",
       "      <td>rear_wheel_drive</td>\n",
       "      <td>2.0</td>\n",
       "      <td>luxury,performance</td>\n",
       "      <td>compact</td>\n",
       "      <td>convertible</td>\n",
       "      <td>28</td>\n",
       "      <td>19</td>\n",
       "      <td>3916</td>\n",
       "      <td>40650</td>\n",
       "    </tr>\n",
       "    <tr>\n",
       "      <th>2</th>\n",
       "      <td>bmw</td>\n",
       "      <td>1_series</td>\n",
       "      <td>2011</td>\n",
       "      <td>premium_unleaded_(required)</td>\n",
       "      <td>300.0</td>\n",
       "      <td>6.0</td>\n",
       "      <td>manual</td>\n",
       "      <td>rear_wheel_drive</td>\n",
       "      <td>2.0</td>\n",
       "      <td>luxury,high-performance</td>\n",
       "      <td>compact</td>\n",
       "      <td>coupe</td>\n",
       "      <td>28</td>\n",
       "      <td>20</td>\n",
       "      <td>3916</td>\n",
       "      <td>36350</td>\n",
       "    </tr>\n",
       "  </tbody>\n",
       "</table>\n",
       "</div>"
      ],
      "text/plain": [
       "  make       model  year             engine_fuel_type  engine_hp  \\\n",
       "0  bmw  1_series_m  2011  premium_unleaded_(required)      335.0   \n",
       "1  bmw    1_series  2011  premium_unleaded_(required)      300.0   \n",
       "2  bmw    1_series  2011  premium_unleaded_(required)      300.0   \n",
       "\n",
       "   engine_cylinders transmission_type     driven_wheels  number_of_doors  \\\n",
       "0               6.0            manual  rear_wheel_drive              2.0   \n",
       "1               6.0            manual  rear_wheel_drive              2.0   \n",
       "2               6.0            manual  rear_wheel_drive              2.0   \n",
       "\n",
       "                         market_category vehicle_size vehicle_style  \\\n",
       "0  factory_tuner,luxury,high-performance      compact         coupe   \n",
       "1                     luxury,performance      compact   convertible   \n",
       "2                luxury,high-performance      compact         coupe   \n",
       "\n",
       "   highway_mpg  city_mpg  popularity   msrp  \n",
       "0           26        19        3916  46135  \n",
       "1           28        19        3916  40650  \n",
       "2           28        20        3916  36350  "
      ]
     },
     "execution_count": 36,
     "metadata": {},
     "output_type": "execute_result"
    }
   ],
   "source": [
    "df.head(3)"
   ]
  },
  {
   "cell_type": "markdown",
   "id": "bb87a270",
   "metadata": {},
   "source": [
    "### Exploratory Data Analysis"
   ]
  },
  {
   "cell_type": "code",
   "execution_count": 41,
   "id": "6b2dc470",
   "metadata": {},
   "outputs": [
    {
     "name": "stdout",
     "output_type": "stream",
     "text": [
      "<class 'pandas.core.frame.DataFrame'>\n",
      "RangeIndex: 11914 entries, 0 to 11913\n",
      "Data columns (total 16 columns):\n",
      " #   Column             Non-Null Count  Dtype  \n",
      "---  ------             --------------  -----  \n",
      " 0   make               11914 non-null  object \n",
      " 1   model              11914 non-null  object \n",
      " 2   year               11914 non-null  int64  \n",
      " 3   engine_fuel_type   11911 non-null  object \n",
      " 4   engine_hp          11845 non-null  float64\n",
      " 5   engine_cylinders   11884 non-null  float64\n",
      " 6   transmission_type  11914 non-null  object \n",
      " 7   driven_wheels      11914 non-null  object \n",
      " 8   number_of_doors    11908 non-null  float64\n",
      " 9   market_category    8172 non-null   object \n",
      " 10  vehicle_size       11914 non-null  object \n",
      " 11  vehicle_style      11914 non-null  object \n",
      " 12  highway_mpg        11914 non-null  int64  \n",
      " 13  city_mpg           11914 non-null  int64  \n",
      " 14  popularity         11914 non-null  int64  \n",
      " 15  msrp               11914 non-null  int64  \n",
      "dtypes: float64(3), int64(5), object(8)\n",
      "memory usage: 1.5+ MB\n"
     ]
    }
   ],
   "source": [
    "df.info()"
   ]
  },
  {
   "cell_type": "code",
   "execution_count": 44,
   "id": "256079eb",
   "metadata": {},
   "outputs": [
    {
     "data": {
      "text/html": [
       "<div>\n",
       "<style scoped>\n",
       "    .dataframe tbody tr th:only-of-type {\n",
       "        vertical-align: middle;\n",
       "    }\n",
       "\n",
       "    .dataframe tbody tr th {\n",
       "        vertical-align: top;\n",
       "    }\n",
       "\n",
       "    .dataframe thead th {\n",
       "        text-align: right;\n",
       "    }\n",
       "</style>\n",
       "<table border=\"1\" class=\"dataframe\">\n",
       "  <thead>\n",
       "    <tr style=\"text-align: right;\">\n",
       "      <th></th>\n",
       "      <th>year</th>\n",
       "      <th>engine_hp</th>\n",
       "      <th>engine_cylinders</th>\n",
       "      <th>number_of_doors</th>\n",
       "      <th>highway_mpg</th>\n",
       "      <th>city_mpg</th>\n",
       "      <th>popularity</th>\n",
       "      <th>msrp</th>\n",
       "    </tr>\n",
       "  </thead>\n",
       "  <tbody>\n",
       "    <tr>\n",
       "      <th>count</th>\n",
       "      <td>11914.00</td>\n",
       "      <td>11845.00</td>\n",
       "      <td>11884.00</td>\n",
       "      <td>11908.00</td>\n",
       "      <td>11914.00</td>\n",
       "      <td>11914.00</td>\n",
       "      <td>11914.00</td>\n",
       "      <td>11914.00</td>\n",
       "    </tr>\n",
       "    <tr>\n",
       "      <th>mean</th>\n",
       "      <td>2010.38</td>\n",
       "      <td>249.39</td>\n",
       "      <td>5.63</td>\n",
       "      <td>3.44</td>\n",
       "      <td>26.64</td>\n",
       "      <td>19.73</td>\n",
       "      <td>1554.91</td>\n",
       "      <td>40594.74</td>\n",
       "    </tr>\n",
       "    <tr>\n",
       "      <th>std</th>\n",
       "      <td>7.58</td>\n",
       "      <td>109.19</td>\n",
       "      <td>1.78</td>\n",
       "      <td>0.88</td>\n",
       "      <td>8.86</td>\n",
       "      <td>8.99</td>\n",
       "      <td>1441.86</td>\n",
       "      <td>60109.10</td>\n",
       "    </tr>\n",
       "    <tr>\n",
       "      <th>min</th>\n",
       "      <td>1990.00</td>\n",
       "      <td>55.00</td>\n",
       "      <td>0.00</td>\n",
       "      <td>2.00</td>\n",
       "      <td>12.00</td>\n",
       "      <td>7.00</td>\n",
       "      <td>2.00</td>\n",
       "      <td>2000.00</td>\n",
       "    </tr>\n",
       "    <tr>\n",
       "      <th>25%</th>\n",
       "      <td>2007.00</td>\n",
       "      <td>170.00</td>\n",
       "      <td>4.00</td>\n",
       "      <td>2.00</td>\n",
       "      <td>22.00</td>\n",
       "      <td>16.00</td>\n",
       "      <td>549.00</td>\n",
       "      <td>21000.00</td>\n",
       "    </tr>\n",
       "    <tr>\n",
       "      <th>50%</th>\n",
       "      <td>2015.00</td>\n",
       "      <td>227.00</td>\n",
       "      <td>6.00</td>\n",
       "      <td>4.00</td>\n",
       "      <td>26.00</td>\n",
       "      <td>18.00</td>\n",
       "      <td>1385.00</td>\n",
       "      <td>29995.00</td>\n",
       "    </tr>\n",
       "    <tr>\n",
       "      <th>75%</th>\n",
       "      <td>2016.00</td>\n",
       "      <td>300.00</td>\n",
       "      <td>6.00</td>\n",
       "      <td>4.00</td>\n",
       "      <td>30.00</td>\n",
       "      <td>22.00</td>\n",
       "      <td>2009.00</td>\n",
       "      <td>42231.25</td>\n",
       "    </tr>\n",
       "    <tr>\n",
       "      <th>max</th>\n",
       "      <td>2017.00</td>\n",
       "      <td>1001.00</td>\n",
       "      <td>16.00</td>\n",
       "      <td>4.00</td>\n",
       "      <td>354.00</td>\n",
       "      <td>137.00</td>\n",
       "      <td>5657.00</td>\n",
       "      <td>2065902.00</td>\n",
       "    </tr>\n",
       "  </tbody>\n",
       "</table>\n",
       "</div>"
      ],
      "text/plain": [
       "           year  engine_hp  engine_cylinders  number_of_doors  highway_mpg  \\\n",
       "count  11914.00   11845.00          11884.00         11908.00     11914.00   \n",
       "mean    2010.38     249.39              5.63             3.44        26.64   \n",
       "std        7.58     109.19              1.78             0.88         8.86   \n",
       "min     1990.00      55.00              0.00             2.00        12.00   \n",
       "25%     2007.00     170.00              4.00             2.00        22.00   \n",
       "50%     2015.00     227.00              6.00             4.00        26.00   \n",
       "75%     2016.00     300.00              6.00             4.00        30.00   \n",
       "max     2017.00    1001.00             16.00             4.00       354.00   \n",
       "\n",
       "       city_mpg  popularity        msrp  \n",
       "count  11914.00    11914.00    11914.00  \n",
       "mean      19.73     1554.91    40594.74  \n",
       "std        8.99     1441.86    60109.10  \n",
       "min        7.00        2.00     2000.00  \n",
       "25%       16.00      549.00    21000.00  \n",
       "50%       18.00     1385.00    29995.00  \n",
       "75%       22.00     2009.00    42231.25  \n",
       "max      137.00     5657.00  2065902.00  "
      ]
     },
     "execution_count": 44,
     "metadata": {},
     "output_type": "execute_result"
    }
   ],
   "source": [
    "df.describe().round(2)"
   ]
  },
  {
   "cell_type": "code",
   "execution_count": 45,
   "id": "379911b4",
   "metadata": {},
   "outputs": [
    {
     "data": {
      "text/html": [
       "<div>\n",
       "<style scoped>\n",
       "    .dataframe tbody tr th:only-of-type {\n",
       "        vertical-align: middle;\n",
       "    }\n",
       "\n",
       "    .dataframe tbody tr th {\n",
       "        vertical-align: top;\n",
       "    }\n",
       "\n",
       "    .dataframe thead th {\n",
       "        text-align: right;\n",
       "    }\n",
       "</style>\n",
       "<table border=\"1\" class=\"dataframe\">\n",
       "  <thead>\n",
       "    <tr style=\"text-align: right;\">\n",
       "      <th></th>\n",
       "      <th>make</th>\n",
       "      <th>model</th>\n",
       "      <th>engine_fuel_type</th>\n",
       "      <th>transmission_type</th>\n",
       "      <th>driven_wheels</th>\n",
       "      <th>market_category</th>\n",
       "      <th>vehicle_size</th>\n",
       "      <th>vehicle_style</th>\n",
       "    </tr>\n",
       "  </thead>\n",
       "  <tbody>\n",
       "    <tr>\n",
       "      <th>count</th>\n",
       "      <td>11914</td>\n",
       "      <td>11914</td>\n",
       "      <td>11911</td>\n",
       "      <td>11914</td>\n",
       "      <td>11914</td>\n",
       "      <td>8172</td>\n",
       "      <td>11914</td>\n",
       "      <td>11914</td>\n",
       "    </tr>\n",
       "    <tr>\n",
       "      <th>unique</th>\n",
       "      <td>48</td>\n",
       "      <td>914</td>\n",
       "      <td>10</td>\n",
       "      <td>5</td>\n",
       "      <td>4</td>\n",
       "      <td>71</td>\n",
       "      <td>3</td>\n",
       "      <td>16</td>\n",
       "    </tr>\n",
       "    <tr>\n",
       "      <th>top</th>\n",
       "      <td>chevrolet</td>\n",
       "      <td>silverado_1500</td>\n",
       "      <td>regular_unleaded</td>\n",
       "      <td>automatic</td>\n",
       "      <td>front_wheel_drive</td>\n",
       "      <td>crossover</td>\n",
       "      <td>compact</td>\n",
       "      <td>sedan</td>\n",
       "    </tr>\n",
       "    <tr>\n",
       "      <th>freq</th>\n",
       "      <td>1123</td>\n",
       "      <td>156</td>\n",
       "      <td>7172</td>\n",
       "      <td>8266</td>\n",
       "      <td>4787</td>\n",
       "      <td>1110</td>\n",
       "      <td>4764</td>\n",
       "      <td>3048</td>\n",
       "    </tr>\n",
       "  </tbody>\n",
       "</table>\n",
       "</div>"
      ],
      "text/plain": [
       "             make           model  engine_fuel_type transmission_type  \\\n",
       "count       11914           11914             11911             11914   \n",
       "unique         48             914                10                 5   \n",
       "top     chevrolet  silverado_1500  regular_unleaded         automatic   \n",
       "freq         1123             156              7172              8266   \n",
       "\n",
       "            driven_wheels market_category vehicle_size vehicle_style  \n",
       "count               11914            8172        11914         11914  \n",
       "unique                  4              71            3            16  \n",
       "top     front_wheel_drive       crossover      compact         sedan  \n",
       "freq                 4787            1110         4764          3048  "
      ]
     },
     "execution_count": 45,
     "metadata": {},
     "output_type": "execute_result"
    }
   ],
   "source": [
    "df.describe(include='object')"
   ]
  },
  {
   "cell_type": "code",
   "execution_count": 57,
   "id": "e589e7fa",
   "metadata": {},
   "outputs": [
    {
     "data": {
      "image/png": "[encoded data removed]",
      "text/plain": [
       "<Figure size 640x480 with 1 Axes>"
      ]
     },
     "metadata": {},
     "output_type": "display_data"
    }
   ],
   "source": [
    "# Let us try to plot the distribution of the target variable price\n",
    "sns.histplot(df['msrp'],\n",
    "             bins = 50)\n",
    "plt.show()"
   ]
  },
  {
   "cell_type": "markdown",
   "id": "406e070f",
   "metadata": {},
   "source": [
    "- this distribution is right skewed. Most cars are priced below 50,000 USD.\n",
    "- there are some cars which are priced very high. These could be luxury cars.\n",
    "- we will need to treat these outliers before we build a regression model.\n",
    "- as long tailed distributions confuses the model, we will have to transform this variable to make it more normally distributed.\n",
    "- we will use log transformation for this.\n",
    "- we will also need to treat the missing values in this variable."
   ]
  },
  {
   "cell_type": "markdown",
   "id": "5ee1afa3",
   "metadata": {},
   "source": [
    "- we will try to zoom in a bit and understand the data better."
   ]
  },
  {
   "cell_type": "code",
   "execution_count": 59,
   "id": "568b4c45",
   "metadata": {},
   "outputs": [
    {
     "data": {
      "image/png": "[encoded data removed]",
      "text/plain": [
       "<Figure size 640x480 with 1 Axes>"
      ]
     },
     "metadata": {},
     "output_type": "display_data"
    }
   ],
   "source": [
    "# Let us try to plot the distribution of the target variable price\n",
    "sns.histplot(df['msrp'][df['msrp'] < 100000],\n",
    "             bins = 50)\n",
    "plt.show()"
   ]
  },
  {
   "cell_type": "code",
   "execution_count": 60,
   "id": "5cee6d6a",
   "metadata": {},
   "outputs": [
    {
     "data": {
      "text/plain": [
       "np.int64(2000)"
      ]
     },
     "execution_count": 60,
     "metadata": {},
     "output_type": "execute_result"
    }
   ],
   "source": [
    "df['msrp'].min()"
   ]
  },
  {
   "cell_type": "markdown",
   "id": "9304a04e",
   "metadata": {},
   "source": [
    "- The long bar in the histogram shows that there are many cars which are priced the minimum price mentioned in the platform (2,000 USD). This could be because the sellers wanted to quickly sell these cars and hence listed them at the minimum price. We will need to treat these values as well."
   ]
  },
  {
   "cell_type": "code",
   "execution_count": null,
   "id": "86e84f95",
   "metadata": {},
   "outputs": [],
   "source": [
    "# applying log transformation to the target variable\n",
    "df['log_msrp'] = np.log1p(df['msrp'])   #np.log1p() adds '1' to the input and then applies log transformation. This is useful when the input data contains '0' values."
   ]
  },
  {
   "cell_type": "code",
   "execution_count": 381,
   "id": "4cee7a8b",
   "metadata": {},
   "outputs": [
    {
     "data": {
      "image/png": "[encoded data removed]",
      "text/plain": [
       "<Figure size 640x480 with 1 Axes>"
      ]
     },
     "metadata": {},
     "output_type": "display_data"
    }
   ],
   "source": [
    "sns.histplot(np.log1p(df['msrp']),\n",
    "             bins = 50)\n",
    "plt.show()"
   ]
  },
  {
   "cell_type": "markdown",
   "id": "e235bda3",
   "metadata": {},
   "source": [
    "- note that the log transformation has made the distribution more normal."
   ]
  },
  {
   "cell_type": "code",
   "execution_count": null,
   "id": "7d799ec1",
   "metadata": {},
   "outputs": [],
   "source": []
  },
  {
   "cell_type": "markdown",
   "id": "c2b7986c",
   "metadata": {},
   "source": [
    "### Missing value treatment"
   ]
  },
  {
   "cell_type": "code",
   "execution_count": 69,
   "id": "1387523a",
   "metadata": {},
   "outputs": [
    {
     "data": {
      "text/plain": [
       "make                    0\n",
       "model                   0\n",
       "year                    0\n",
       "engine_fuel_type        3\n",
       "engine_hp              69\n",
       "engine_cylinders       30\n",
       "transmission_type       0\n",
       "driven_wheels           0\n",
       "number_of_doors         6\n",
       "market_category      3742\n",
       "vehicle_size            0\n",
       "vehicle_style           0\n",
       "highway_mpg             0\n",
       "city_mpg                0\n",
       "popularity              0\n",
       "msrp                    0\n",
       "dtype: int64"
      ]
     },
     "execution_count": 69,
     "metadata": {},
     "output_type": "execute_result"
    }
   ],
   "source": [
    "df.isnull().sum()"
   ]
  },
  {
   "cell_type": "markdown",
   "id": "0e10cca0",
   "metadata": {},
   "source": [
    "### Setting up the validation framework"
   ]
  },
  {
   "cell_type": "markdown",
   "id": "503dbe12",
   "metadata": {},
   "source": [
    "- in this step, we will split the data into training and validation and test sets.\n",
    "- we will use 60% of the data for training, 20% for validation and 20% for testing."
   ]
  },
  {
   "cell_type": "code",
   "execution_count": 285,
   "id": "2b082b46",
   "metadata": {},
   "outputs": [
    {
     "name": "stdout",
     "output_type": "stream",
     "text": [
      "Dataset size is: 11914\n",
      "Training set size is: 7150\n",
      "Validation set size is: 2382\n",
      "Test set size is: 2382\n"
     ]
    }
   ],
   "source": [
    "dataset_size = df.shape[0]\n",
    "\n",
    "validation_size = int(0.2 * dataset_size)\n",
    "test_size = int(0.2 * dataset_size)\n",
    "train_size = dataset_size - (validation_size + test_size)\n",
    "\n",
    "print(f\"Dataset size is: {dataset_size}\")\n",
    "print(f\"Training set size is: {train_size}\")\n",
    "print(f\"Validation set size is: {validation_size}\")\n",
    "print(f\"Test set size is: {test_size}\")"
   ]
  },
  {
   "cell_type": "markdown",
   "id": "e9bf74bb",
   "metadata": {},
   "source": [
    "- It is important to shuffle the data before splitting it into training, validation and test sets. This ensures that the data is randomly distributed across the sets.\n"
   ]
  },
  {
   "cell_type": "code",
   "execution_count": 287,
   "id": "3329f69d",
   "metadata": {},
   "outputs": [
    {
     "data": {
      "text/plain": [
       "array([    0,     1,     2, ..., 11911, 11912, 11913], shape=(11914,))"
      ]
     },
     "execution_count": 287,
     "metadata": {},
     "output_type": "execute_result"
    }
   ],
   "source": [
    "idx = np.arange(dataset_size)\n",
    "idx"
   ]
  },
  {
   "cell_type": "code",
   "execution_count": 288,
   "id": "0f5e8527",
   "metadata": {},
   "outputs": [
    {
     "data": {
      "text/plain": [
       "array([2735, 6720, 5878, ..., 6637, 2575, 7336], shape=(11914,))"
      ]
     },
     "execution_count": 288,
     "metadata": {},
     "output_type": "execute_result"
    }
   ],
   "source": [
    "np.random.seed(2)\n",
    "np.random.shuffle(idx)\n",
    "idx"
   ]
  },
  {
   "cell_type": "code",
   "execution_count": 289,
   "id": "b3400df9",
   "metadata": {},
   "outputs": [],
   "source": [
    "train_idx = idx[:train_size]\n",
    "validation_idx = idx[train_size:train_size + validation_size]\n",
    "test_idx = idx[train_size + validation_size:]"
   ]
  },
  {
   "cell_type": "code",
   "execution_count": 290,
   "id": "75f91a85",
   "metadata": {},
   "outputs": [],
   "source": [
    "df_train = df.iloc[train_idx]\n",
    "df_validation = df.iloc[validation_idx]\n",
    "df_test = df.iloc[test_idx]"
   ]
  },
  {
   "cell_type": "code",
   "execution_count": 92,
   "id": "18a8fa63",
   "metadata": {},
   "outputs": [
    {
     "data": {
      "text/html": [
       "<div>\n",
       "<style scoped>\n",
       "    .dataframe tbody tr th:only-of-type {\n",
       "        vertical-align: middle;\n",
       "    }\n",
       "\n",
       "    .dataframe tbody tr th {\n",
       "        vertical-align: top;\n",
       "    }\n",
       "\n",
       "    .dataframe thead th {\n",
       "        text-align: right;\n",
       "    }\n",
       "</style>\n",
       "<table border=\"1\" class=\"dataframe\">\n",
       "  <thead>\n",
       "    <tr style=\"text-align: right;\">\n",
       "      <th></th>\n",
       "      <th>make</th>\n",
       "      <th>model</th>\n",
       "      <th>year</th>\n",
       "      <th>engine_fuel_type</th>\n",
       "      <th>engine_hp</th>\n",
       "      <th>engine_cylinders</th>\n",
       "      <th>transmission_type</th>\n",
       "      <th>driven_wheels</th>\n",
       "      <th>number_of_doors</th>\n",
       "      <th>market_category</th>\n",
       "      <th>vehicle_size</th>\n",
       "      <th>vehicle_style</th>\n",
       "      <th>highway_mpg</th>\n",
       "      <th>city_mpg</th>\n",
       "      <th>popularity</th>\n",
       "      <th>msrp</th>\n",
       "    </tr>\n",
       "  </thead>\n",
       "  <tbody>\n",
       "    <tr>\n",
       "      <th>2735</th>\n",
       "      <td>chevrolet</td>\n",
       "      <td>cobalt</td>\n",
       "      <td>2008</td>\n",
       "      <td>regular_unleaded</td>\n",
       "      <td>148.0</td>\n",
       "      <td>4.0</td>\n",
       "      <td>manual</td>\n",
       "      <td>front_wheel_drive</td>\n",
       "      <td>2.0</td>\n",
       "      <td>NaN</td>\n",
       "      <td>compact</td>\n",
       "      <td>coupe</td>\n",
       "      <td>33</td>\n",
       "      <td>24</td>\n",
       "      <td>1385</td>\n",
       "      <td>14410</td>\n",
       "    </tr>\n",
       "    <tr>\n",
       "      <th>6720</th>\n",
       "      <td>toyota</td>\n",
       "      <td>matrix</td>\n",
       "      <td>2012</td>\n",
       "      <td>regular_unleaded</td>\n",
       "      <td>132.0</td>\n",
       "      <td>4.0</td>\n",
       "      <td>automatic</td>\n",
       "      <td>front_wheel_drive</td>\n",
       "      <td>4.0</td>\n",
       "      <td>hatchback</td>\n",
       "      <td>compact</td>\n",
       "      <td>4dr_hatchback</td>\n",
       "      <td>32</td>\n",
       "      <td>25</td>\n",
       "      <td>2031</td>\n",
       "      <td>19685</td>\n",
       "    </tr>\n",
       "    <tr>\n",
       "      <th>5878</th>\n",
       "      <td>subaru</td>\n",
       "      <td>impreza</td>\n",
       "      <td>2016</td>\n",
       "      <td>regular_unleaded</td>\n",
       "      <td>148.0</td>\n",
       "      <td>4.0</td>\n",
       "      <td>automatic</td>\n",
       "      <td>all_wheel_drive</td>\n",
       "      <td>4.0</td>\n",
       "      <td>hatchback</td>\n",
       "      <td>compact</td>\n",
       "      <td>4dr_hatchback</td>\n",
       "      <td>37</td>\n",
       "      <td>28</td>\n",
       "      <td>640</td>\n",
       "      <td>19795</td>\n",
       "    </tr>\n",
       "  </tbody>\n",
       "</table>\n",
       "</div>"
      ],
      "text/plain": [
       "           make    model  year  engine_fuel_type  engine_hp  engine_cylinders  \\\n",
       "2735  chevrolet   cobalt  2008  regular_unleaded      148.0               4.0   \n",
       "6720     toyota   matrix  2012  regular_unleaded      132.0               4.0   \n",
       "5878     subaru  impreza  2016  regular_unleaded      148.0               4.0   \n",
       "\n",
       "     transmission_type      driven_wheels  number_of_doors market_category  \\\n",
       "2735            manual  front_wheel_drive              2.0             NaN   \n",
       "6720         automatic  front_wheel_drive              4.0       hatchback   \n",
       "5878         automatic    all_wheel_drive              4.0       hatchback   \n",
       "\n",
       "     vehicle_size  vehicle_style  highway_mpg  city_mpg  popularity   msrp  \n",
       "2735      compact          coupe           33        24        1385  14410  \n",
       "6720      compact  4dr_hatchback           32        25        2031  19685  \n",
       "5878      compact  4dr_hatchback           37        28         640  19795  "
      ]
     },
     "execution_count": 92,
     "metadata": {},
     "output_type": "execute_result"
    }
   ],
   "source": [
    "df_train.head(3)"
   ]
  },
  {
   "cell_type": "code",
   "execution_count": 291,
   "id": "a6df4e62",
   "metadata": {},
   "outputs": [],
   "source": [
    "df_train.reset_index(drop = True, inplace = True)\n",
    "df_validation.reset_index(drop = True, inplace = True)\n",
    "df_test.reset_index(drop = True, inplace = True)"
   ]
  },
  {
   "cell_type": "code",
   "execution_count": 292,
   "id": "db2c265a",
   "metadata": {},
   "outputs": [],
   "source": [
    "y_train = np.log1p(df_train['msrp'].values)\n",
    "y_validation = np.log1p(df_validation['msrp'].values)\n",
    "y_test = np.log1p(df_test['msrp'].values)"
   ]
  },
  {
   "cell_type": "code",
   "execution_count": null,
   "id": "833b3d6e",
   "metadata": {},
   "outputs": [],
   "source": [
    "# Let us now delete the target variable from the dataframes\n",
    "# del df_train['msrp']\n",
    "# del df_validation['msrp']\n",
    "# del df_test['msrp']"
   ]
  },
  {
   "cell_type": "code",
   "execution_count": 294,
   "id": "5784c910",
   "metadata": {},
   "outputs": [
    {
     "data": {
      "text/html": [
       "<div>\n",
       "<style scoped>\n",
       "    .dataframe tbody tr th:only-of-type {\n",
       "        vertical-align: middle;\n",
       "    }\n",
       "\n",
       "    .dataframe tbody tr th {\n",
       "        vertical-align: top;\n",
       "    }\n",
       "\n",
       "    .dataframe thead th {\n",
       "        text-align: right;\n",
       "    }\n",
       "</style>\n",
       "<table border=\"1\" class=\"dataframe\">\n",
       "  <thead>\n",
       "    <tr style=\"text-align: right;\">\n",
       "      <th></th>\n",
       "      <th>make</th>\n",
       "      <th>model</th>\n",
       "      <th>year</th>\n",
       "      <th>engine_fuel_type</th>\n",
       "      <th>engine_hp</th>\n",
       "      <th>engine_cylinders</th>\n",
       "      <th>transmission_type</th>\n",
       "      <th>driven_wheels</th>\n",
       "      <th>number_of_doors</th>\n",
       "      <th>market_category</th>\n",
       "      <th>vehicle_size</th>\n",
       "      <th>vehicle_style</th>\n",
       "      <th>highway_mpg</th>\n",
       "      <th>city_mpg</th>\n",
       "      <th>popularity</th>\n",
       "    </tr>\n",
       "  </thead>\n",
       "  <tbody>\n",
       "    <tr>\n",
       "      <th>0</th>\n",
       "      <td>chevrolet</td>\n",
       "      <td>cobalt</td>\n",
       "      <td>2008</td>\n",
       "      <td>regular_unleaded</td>\n",
       "      <td>148.0</td>\n",
       "      <td>4.0</td>\n",
       "      <td>manual</td>\n",
       "      <td>front_wheel_drive</td>\n",
       "      <td>2.0</td>\n",
       "      <td>NaN</td>\n",
       "      <td>compact</td>\n",
       "      <td>coupe</td>\n",
       "      <td>33</td>\n",
       "      <td>24</td>\n",
       "      <td>1385</td>\n",
       "    </tr>\n",
       "    <tr>\n",
       "      <th>1</th>\n",
       "      <td>toyota</td>\n",
       "      <td>matrix</td>\n",
       "      <td>2012</td>\n",
       "      <td>regular_unleaded</td>\n",
       "      <td>132.0</td>\n",
       "      <td>4.0</td>\n",
       "      <td>automatic</td>\n",
       "      <td>front_wheel_drive</td>\n",
       "      <td>4.0</td>\n",
       "      <td>hatchback</td>\n",
       "      <td>compact</td>\n",
       "      <td>4dr_hatchback</td>\n",
       "      <td>32</td>\n",
       "      <td>25</td>\n",
       "      <td>2031</td>\n",
       "    </tr>\n",
       "    <tr>\n",
       "      <th>2</th>\n",
       "      <td>subaru</td>\n",
       "      <td>impreza</td>\n",
       "      <td>2016</td>\n",
       "      <td>regular_unleaded</td>\n",
       "      <td>148.0</td>\n",
       "      <td>4.0</td>\n",
       "      <td>automatic</td>\n",
       "      <td>all_wheel_drive</td>\n",
       "      <td>4.0</td>\n",
       "      <td>hatchback</td>\n",
       "      <td>compact</td>\n",
       "      <td>4dr_hatchback</td>\n",
       "      <td>37</td>\n",
       "      <td>28</td>\n",
       "      <td>640</td>\n",
       "    </tr>\n",
       "  </tbody>\n",
       "</table>\n",
       "</div>"
      ],
      "text/plain": [
       "        make    model  year  engine_fuel_type  engine_hp  engine_cylinders  \\\n",
       "0  chevrolet   cobalt  2008  regular_unleaded      148.0               4.0   \n",
       "1     toyota   matrix  2012  regular_unleaded      132.0               4.0   \n",
       "2     subaru  impreza  2016  regular_unleaded      148.0               4.0   \n",
       "\n",
       "  transmission_type      driven_wheels  number_of_doors market_category  \\\n",
       "0            manual  front_wheel_drive              2.0             NaN   \n",
       "1         automatic  front_wheel_drive              4.0       hatchback   \n",
       "2         automatic    all_wheel_drive              4.0       hatchback   \n",
       "\n",
       "  vehicle_size  vehicle_style  highway_mpg  city_mpg  popularity  \n",
       "0      compact          coupe           33        24        1385  \n",
       "1      compact  4dr_hatchback           32        25        2031  \n",
       "2      compact  4dr_hatchback           37        28         640  "
      ]
     },
     "execution_count": 294,
     "metadata": {},
     "output_type": "execute_result"
    }
   ],
   "source": [
    "df_train.head(3)"
   ]
  },
  {
   "cell_type": "code",
   "execution_count": 110,
   "id": "ac37ba48",
   "metadata": {},
   "outputs": [
    {
     "data": {
      "text/html": [
       "<div>\n",
       "<style scoped>\n",
       "    .dataframe tbody tr th:only-of-type {\n",
       "        vertical-align: middle;\n",
       "    }\n",
       "\n",
       "    .dataframe tbody tr th {\n",
       "        vertical-align: top;\n",
       "    }\n",
       "\n",
       "    .dataframe thead th {\n",
       "        text-align: right;\n",
       "    }\n",
       "</style>\n",
       "<table border=\"1\" class=\"dataframe\">\n",
       "  <thead>\n",
       "    <tr style=\"text-align: right;\">\n",
       "      <th></th>\n",
       "      <th>make</th>\n",
       "      <th>model</th>\n",
       "      <th>year</th>\n",
       "      <th>engine_fuel_type</th>\n",
       "      <th>engine_hp</th>\n",
       "      <th>engine_cylinders</th>\n",
       "      <th>transmission_type</th>\n",
       "      <th>driven_wheels</th>\n",
       "      <th>number_of_doors</th>\n",
       "      <th>market_category</th>\n",
       "      <th>vehicle_size</th>\n",
       "      <th>vehicle_style</th>\n",
       "      <th>highway_mpg</th>\n",
       "      <th>city_mpg</th>\n",
       "      <th>popularity</th>\n",
       "    </tr>\n",
       "  </thead>\n",
       "  <tbody>\n",
       "    <tr>\n",
       "      <th>0</th>\n",
       "      <td>chevrolet</td>\n",
       "      <td>colorado</td>\n",
       "      <td>2015</td>\n",
       "      <td>regular_unleaded</td>\n",
       "      <td>200.0</td>\n",
       "      <td>4.0</td>\n",
       "      <td>automatic</td>\n",
       "      <td>four_wheel_drive</td>\n",
       "      <td>4.0</td>\n",
       "      <td>NaN</td>\n",
       "      <td>compact</td>\n",
       "      <td>extended_cab_pickup</td>\n",
       "      <td>25</td>\n",
       "      <td>19</td>\n",
       "      <td>1385</td>\n",
       "    </tr>\n",
       "    <tr>\n",
       "      <th>1</th>\n",
       "      <td>mercedes-benz</td>\n",
       "      <td>e-class</td>\n",
       "      <td>2017</td>\n",
       "      <td>premium_unleaded_(required)</td>\n",
       "      <td>241.0</td>\n",
       "      <td>4.0</td>\n",
       "      <td>automatic</td>\n",
       "      <td>all_wheel_drive</td>\n",
       "      <td>4.0</td>\n",
       "      <td>luxury</td>\n",
       "      <td>midsize</td>\n",
       "      <td>sedan</td>\n",
       "      <td>29</td>\n",
       "      <td>22</td>\n",
       "      <td>617</td>\n",
       "    </tr>\n",
       "    <tr>\n",
       "      <th>2</th>\n",
       "      <td>ford</td>\n",
       "      <td>focus</td>\n",
       "      <td>2017</td>\n",
       "      <td>flex-fuel_(unleaded/e85)</td>\n",
       "      <td>160.0</td>\n",
       "      <td>4.0</td>\n",
       "      <td>manual</td>\n",
       "      <td>front_wheel_drive</td>\n",
       "      <td>4.0</td>\n",
       "      <td>flex_fuel</td>\n",
       "      <td>compact</td>\n",
       "      <td>sedan</td>\n",
       "      <td>36</td>\n",
       "      <td>26</td>\n",
       "      <td>5657</td>\n",
       "    </tr>\n",
       "  </tbody>\n",
       "</table>\n",
       "</div>"
      ],
      "text/plain": [
       "            make     model  year             engine_fuel_type  engine_hp  \\\n",
       "0      chevrolet  colorado  2015             regular_unleaded      200.0   \n",
       "1  mercedes-benz   e-class  2017  premium_unleaded_(required)      241.0   \n",
       "2           ford     focus  2017     flex-fuel_(unleaded/e85)      160.0   \n",
       "\n",
       "   engine_cylinders transmission_type      driven_wheels  number_of_doors  \\\n",
       "0               4.0         automatic   four_wheel_drive              4.0   \n",
       "1               4.0         automatic    all_wheel_drive              4.0   \n",
       "2               4.0            manual  front_wheel_drive              4.0   \n",
       "\n",
       "  market_category vehicle_size        vehicle_style  highway_mpg  city_mpg  \\\n",
       "0             NaN      compact  extended_cab_pickup           25        19   \n",
       "1          luxury      midsize                sedan           29        22   \n",
       "2       flex_fuel      compact                sedan           36        26   \n",
       "\n",
       "   popularity  \n",
       "0        1385  \n",
       "1         617  \n",
       "2        5657  "
      ]
     },
     "execution_count": 110,
     "metadata": {},
     "output_type": "execute_result"
    }
   ],
   "source": [
    "df_validation.head(3)"
   ]
  },
  {
   "cell_type": "code",
   "execution_count": 111,
   "id": "f22dc316",
   "metadata": {},
   "outputs": [
    {
     "data": {
      "text/html": [
       "<div>\n",
       "<style scoped>\n",
       "    .dataframe tbody tr th:only-of-type {\n",
       "        vertical-align: middle;\n",
       "    }\n",
       "\n",
       "    .dataframe tbody tr th {\n",
       "        vertical-align: top;\n",
       "    }\n",
       "\n",
       "    .dataframe thead th {\n",
       "        text-align: right;\n",
       "    }\n",
       "</style>\n",
       "<table border=\"1\" class=\"dataframe\">\n",
       "  <thead>\n",
       "    <tr style=\"text-align: right;\">\n",
       "      <th></th>\n",
       "      <th>make</th>\n",
       "      <th>model</th>\n",
       "      <th>year</th>\n",
       "      <th>engine_fuel_type</th>\n",
       "      <th>engine_hp</th>\n",
       "      <th>engine_cylinders</th>\n",
       "      <th>transmission_type</th>\n",
       "      <th>driven_wheels</th>\n",
       "      <th>number_of_doors</th>\n",
       "      <th>market_category</th>\n",
       "      <th>vehicle_size</th>\n",
       "      <th>vehicle_style</th>\n",
       "      <th>highway_mpg</th>\n",
       "      <th>city_mpg</th>\n",
       "      <th>popularity</th>\n",
       "    </tr>\n",
       "  </thead>\n",
       "  <tbody>\n",
       "    <tr>\n",
       "      <th>0</th>\n",
       "      <td>gmc</td>\n",
       "      <td>vandura</td>\n",
       "      <td>1994</td>\n",
       "      <td>regular_unleaded</td>\n",
       "      <td>165.0</td>\n",
       "      <td>6.0</td>\n",
       "      <td>automatic</td>\n",
       "      <td>rear_wheel_drive</td>\n",
       "      <td>3.0</td>\n",
       "      <td>NaN</td>\n",
       "      <td>compact</td>\n",
       "      <td>cargo_van</td>\n",
       "      <td>20</td>\n",
       "      <td>15</td>\n",
       "      <td>549</td>\n",
       "    </tr>\n",
       "    <tr>\n",
       "      <th>1</th>\n",
       "      <td>mercedes-benz</td>\n",
       "      <td>600-class</td>\n",
       "      <td>1993</td>\n",
       "      <td>regular_unleaded</td>\n",
       "      <td>389.0</td>\n",
       "      <td>12.0</td>\n",
       "      <td>automatic</td>\n",
       "      <td>rear_wheel_drive</td>\n",
       "      <td>2.0</td>\n",
       "      <td>luxury</td>\n",
       "      <td>large</td>\n",
       "      <td>coupe</td>\n",
       "      <td>15</td>\n",
       "      <td>11</td>\n",
       "      <td>617</td>\n",
       "    </tr>\n",
       "    <tr>\n",
       "      <th>2</th>\n",
       "      <td>toyota</td>\n",
       "      <td>venza</td>\n",
       "      <td>2013</td>\n",
       "      <td>regular_unleaded</td>\n",
       "      <td>268.0</td>\n",
       "      <td>6.0</td>\n",
       "      <td>automatic</td>\n",
       "      <td>all_wheel_drive</td>\n",
       "      <td>4.0</td>\n",
       "      <td>crossover,performance</td>\n",
       "      <td>midsize</td>\n",
       "      <td>wagon</td>\n",
       "      <td>25</td>\n",
       "      <td>18</td>\n",
       "      <td>2031</td>\n",
       "    </tr>\n",
       "  </tbody>\n",
       "</table>\n",
       "</div>"
      ],
      "text/plain": [
       "            make      model  year  engine_fuel_type  engine_hp  \\\n",
       "0            gmc    vandura  1994  regular_unleaded      165.0   \n",
       "1  mercedes-benz  600-class  1993  regular_unleaded      389.0   \n",
       "2         toyota      venza  2013  regular_unleaded      268.0   \n",
       "\n",
       "   engine_cylinders transmission_type     driven_wheels  number_of_doors  \\\n",
       "0               6.0         automatic  rear_wheel_drive              3.0   \n",
       "1              12.0         automatic  rear_wheel_drive              2.0   \n",
       "2               6.0         automatic   all_wheel_drive              4.0   \n",
       "\n",
       "         market_category vehicle_size vehicle_style  highway_mpg  city_mpg  \\\n",
       "0                    NaN      compact     cargo_van           20        15   \n",
       "1                 luxury        large         coupe           15        11   \n",
       "2  crossover,performance      midsize         wagon           25        18   \n",
       "\n",
       "   popularity  \n",
       "0         549  \n",
       "1         617  \n",
       "2        2031  "
      ]
     },
     "execution_count": 111,
     "metadata": {},
     "output_type": "execute_result"
    }
   ],
   "source": [
    "df_test.head(3)"
   ]
  },
  {
   "cell_type": "code",
   "execution_count": 114,
   "id": "5620eb65",
   "metadata": {},
   "outputs": [
    {
     "data": {
      "text/plain": [
       "array([ 9.57574708,  9.887663  ,  9.89323518, ..., 10.45380308,\n",
       "       12.62248099, 10.54061978], shape=(7150,))"
      ]
     },
     "execution_count": 114,
     "metadata": {},
     "output_type": "execute_result"
    }
   ],
   "source": [
    "y_train"
   ]
  },
  {
   "cell_type": "markdown",
   "id": "60228728",
   "metadata": {},
   "source": [
    "### Linear Regression- Simple model"
   ]
  },
  {
   "cell_type": "markdown",
   "id": "0491490c",
   "metadata": {},
   "source": [
    "- g(X(i)) = y(i) = w0 + w1*x1 + w2*x2 + ... + wn*xn = w0 + Σ(wj*xj)\n",
    "  - y(i) is the actual value\n",
    "- where,\n",
    "  - g(X) is the predicted value\n",
    "  - w0 is the intercept\n",
    "  - w1, w2, ..., wn are the coefficients of the features x1, x2, ..., xn"
   ]
  },
  {
   "cell_type": "code",
   "execution_count": 116,
   "id": "101c3522",
   "metadata": {},
   "outputs": [
    {
     "data": {
      "text/plain": [
       "make                                 rolls-royce\n",
       "model                     phantom_drophead_coupe\n",
       "year                                        2015\n",
       "engine_fuel_type     premium_unleaded_(required)\n",
       "engine_hp                                  453.0\n",
       "engine_cylinders                            12.0\n",
       "transmission_type                      automatic\n",
       "driven_wheels                   rear_wheel_drive\n",
       "number_of_doors                              2.0\n",
       "market_category        exotic,luxury,performance\n",
       "vehicle_size                               large\n",
       "vehicle_style                        convertible\n",
       "highway_mpg                                   19\n",
       "city_mpg                                      11\n",
       "popularity                                    86\n",
       "Name: 10, dtype: object"
      ]
     },
     "execution_count": 116,
     "metadata": {},
     "output_type": "execute_result"
    }
   ],
   "source": [
    "df_train.loc[10]"
   ]
  },
  {
   "cell_type": "markdown",
   "id": "b68d7b94",
   "metadata": {},
   "source": [
    "- for simplicity, we will use only numerical features such as **engine_hp, city_mpg** and **popularity** for building the linear regression model."
   ]
  },
  {
   "cell_type": "markdown",
   "id": "a7b3748a",
   "metadata": {},
   "source": [
    "- For simplicity, let us consider only 3 features - engine_hp, city_mpg and popularity and let us just consider a small data set as shown below.\n",
    "- Let us see how linear regression works using this small data set."
   ]
  },
  {
   "cell_type": "code",
   "execution_count": 135,
   "metadata": {},
   "outputs": [],
   "source": [
    "xi = [453, 11, 86]\n",
    "w0 = 7.17\n",
    "w = [0.01, 0.04, 0.002]"
   ]
  },
  {
   "cell_type": "code",
   "execution_count": 138,
   "id": "5d377a15",
   "metadata": {},
   "outputs": [],
   "source": [
    "def linear_regression(xi):\n",
    "    \n",
    "    result = w0\n",
    "\n",
    "    for j in range(len(xi)):\n",
    "        result += w[j] * xi[j]\n",
    "    \n",
    "    return result"
   ]
  },
  {
   "cell_type": "code",
   "execution_count": 139,
   "id": "8e6cbf52",
   "metadata": {},
   "outputs": [
    {
     "data": {
      "text/plain": [
       "12.312"
      ]
     },
     "execution_count": 139,
     "metadata": {},
     "output_type": "execute_result"
    }
   ],
   "source": [
    "linear_regression(xi)"
   ]
  },
  {
   "cell_type": "code",
   "execution_count": 141,
   "id": "1d72f90d",
   "metadata": {},
   "outputs": [
    {
     "name": "stdout",
     "output_type": "stream",
     "text": [
      "Predicted price of this car is: RS 604405.13\n"
     ]
    }
   ],
   "source": [
    "print(f'Predicted price of this car is: RS {np.exp(12.312 + 1).round(2)}')"
   ]
  },
  {
   "cell_type": "markdown",
   "id": "17600849",
   "metadata": {},
   "source": [
    "### Linear Regression- Vector Form"
   ]
  },
  {
   "cell_type": "markdown",
   "id": "03a3b1e5",
   "metadata": {},
   "source": [
    "- g(X(i)) = W0 + Sigma(Wj * Xj)= W0 + W1*X1 + W2*X2 + ... + Wn*Xn"
   ]
  },
  {
   "attachments": {
    "image.png": {
     "image/png": "[encoded data removed]"
    }
   },
   "cell_type": "markdown",
   "id": "802f342b",
   "metadata": {},
   "source": [
    "![image.png](attachment:image.png)\n",
    "\n",
    "where\n",
    "- w0 is the bias term.\n",
    "- w is the n-dimensional vector of weights."
   ]
  },
  {
   "cell_type": "code",
   "execution_count": 167,
   "id": "95bbb7e9",
   "metadata": {},
   "outputs": [],
   "source": [
    "xi = [453, 11, 86]\n",
    "w0 = 7.17\n",
    "w = [0.01, 0.04, 0.002]"
   ]
  },
  {
   "cell_type": "code",
   "execution_count": 147,
   "id": "acb8b1c4",
   "metadata": {},
   "outputs": [],
   "source": [
    "def dot(xi, w):\n",
    "\n",
    "    result = 0\n",
    "\n",
    "    for j in range(len(xi)):\n",
    "        result += xi[j] * w[j]\n",
    "    \n",
    "    return result"
   ]
  },
  {
   "cell_type": "code",
   "execution_count": 152,
   "id": "dba4d550",
   "metadata": {},
   "outputs": [],
   "source": [
    "def linear_regression(xi, w):\n",
    "    return np.round(w0 + dot(xi, w), 2)"
   ]
  },
  {
   "cell_type": "code",
   "execution_count": 153,
   "id": "0e0ab4bc",
   "metadata": {},
   "outputs": [
    {
     "data": {
      "text/plain": [
       "np.float64(12.31)"
      ]
     },
     "execution_count": 153,
     "metadata": {},
     "output_type": "execute_result"
    }
   ],
   "source": [
    "linear_regression(xi, w)"
   ]
  },
  {
   "cell_type": "code",
   "execution_count": 154,
   "id": "7f9fed10",
   "metadata": {},
   "outputs": [],
   "source": [
    "def linear_regression(xi, w):\n",
    "    return np.round(w0 + np.dot(xi, w), 2)"
   ]
  },
  {
   "cell_type": "code",
   "execution_count": 155,
   "metadata": {},
   "outputs": [
    {
     "data": {
      "text/plain": [
       "np.float64(12.31)"
      ]
     },
     "execution_count": 155,
     "metadata": {},
     "output_type": "execute_result"
    }
   ],
   "source": [
    "linear_regression(xi, w)"
   ]
  },
  {
   "cell_type": "code",
   "execution_count": 168,
   "id": "ce63e9da",
   "metadata": {},
   "outputs": [
    {
     "data": {
      "text/plain": [
       "[7.17, 0.01, 0.04, 0.002]"
      ]
     },
     "execution_count": 168,
     "metadata": {},
     "output_type": "execute_result"
    }
   ],
   "source": [
    "# let us now try to prepend the bias term to the w right infront of w1\n",
    "w = [w0] + w\n",
    "w"
   ]
  },
  {
   "cell_type": "markdown",
   "id": "6d903fc2",
   "metadata": {},
   "source": [
    "- Because now w becomes a (n+1)-dimensional vector, we also need to adjust the feature vector xi so that the dot product between them still works. \n",
    "- We can do this easily by adding a dummy feature xi 0, which always takes the value 1.\n",
    "- Then we prepend this new dummy feature to xi right before xi1:"
   ]
  },
  {
   "attachments": {
    "image.png": {
     "image/png": "[encoded data removed]"
    }
   },
   "cell_type": "markdown",
   "id": "b6d25205",
   "metadata": {},
   "source": [
    "![image.png](attachment:image.png)"
   ]
  },
  {
   "cell_type": "markdown",
   "id": "f7222369",
   "metadata": {},
   "source": [
    "- With these modifications, we can express the model as the dot product between the new xi and the new w:"
   ]
  },
  {
   "attachments": {
    "image.png": {
     "image/png": "[encoded data removed]"
    }
   },
   "cell_type": "markdown",
   "id": "88a62670",
   "metadata": {},
   "source": [
    "![image.png](attachment:image.png)"
   ]
  },
  {
   "cell_type": "code",
   "execution_count": 169,
   "id": "e2337ecd",
   "metadata": {},
   "outputs": [],
   "source": [
    "def linear_regression(xi):\n",
    "    xi = [1] + xi\n",
    "    return np.dot(xi, w)"
   ]
  },
  {
   "cell_type": "code",
   "execution_count": 170,
   "id": "d7c4992a",
   "metadata": {},
   "outputs": [
    {
     "data": {
      "text/plain": [
       "np.float64(12.312)"
      ]
     },
     "execution_count": 170,
     "metadata": {},
     "output_type": "execute_result"
    }
   ],
   "source": [
    "linear_regression(xi)"
   ]
  },
  {
   "cell_type": "code",
   "execution_count": 173,
   "id": "3752f8dc",
   "metadata": {},
   "outputs": [
    {
     "name": "stdout",
     "output_type": "stream",
     "text": [
      "[1, 1, 1, 453, 11, 86]\n",
      "[7.17, 0.01, 0.04, 0.002]\n"
     ]
    }
   ],
   "source": [
    "xi = [1] + xi\n",
    "print(xi, w, sep = '\\n')"
   ]
  },
  {
   "cell_type": "markdown",
   "id": "ab7dd0d7",
   "metadata": {},
   "source": [
    "- Now let us take a bit more complex example with 3 records:"
   ]
  },
  {
   "cell_type": "code",
   "execution_count": 181,
   "id": "56a1fda5",
   "metadata": {},
   "outputs": [
    {
     "name": "stdout",
     "output_type": "stream",
     "text": [
      "[7.17, 0.01, 0.04, 0.002]\n"
     ]
    }
   ],
   "source": [
    "w0 = 7.17\n",
    "w = [0.01, 0.04, 0.002]\n",
    "w_new = [w0] + w\n",
    "print(w_new)"
   ]
  },
  {
   "cell_type": "code",
   "execution_count": 180,
   "id": "c6ab5c17",
   "metadata": {},
   "outputs": [
    {
     "data": {
      "text/plain": [
       "array([[   1,  148,   24, 1385],\n",
       "       [   1,  132,   25, 2031],\n",
       "       [   1,  453,   11,   86]])"
      ]
     },
     "execution_count": 180,
     "metadata": {},
     "output_type": "execute_result"
    }
   ],
   "source": [
    "x1  = [1, 148, 24, 1385]\n",
    "x2  = [1, 132, 25, 2031]\n",
    "x10 = [1, 453, 11, 86]\n",
    "\n",
    "X = np.array([x1, x2, x10])\n",
    "X"
   ]
  },
  {
   "cell_type": "code",
   "execution_count": 182,
   "id": "a15c85b9",
   "metadata": {},
   "outputs": [],
   "source": [
    "def linear_regression(X):\n",
    "    return np.dot(X, w_new)"
   ]
  },
  {
   "cell_type": "code",
   "execution_count": 183,
   "id": "9b616bf3",
   "metadata": {},
   "outputs": [
    {
     "data": {
      "text/plain": [
       "array([12.38 , 13.552, 12.312])"
      ]
     },
     "execution_count": 183,
     "metadata": {},
     "output_type": "execute_result"
    }
   ],
   "source": [
    "linear_regression(X)"
   ]
  },
  {
   "cell_type": "markdown",
   "id": "60772d5d",
   "metadata": {},
   "source": [
    "- We are ready to consider the bigger picture again and talk about the matrix form.\n",
    "- There are many observations and xi is one of them. \n",
    "- Thus, we have m feature vectors x1, x2, …, xi, …, xm, and each of these vectors consists of n+1 features:"
   ]
  },
  {
   "attachments": {
    "image.png": {
     "image/png": "[encoded data removed]"
    }
   },
   "cell_type": "markdown",
   "id": "2f209ebf",
   "metadata": {},
   "source": [
    "![image.png](attachment:image.png)"
   ]
  },
  {
   "cell_type": "code",
   "execution_count": null,
   "id": "dc92468a",
   "metadata": {},
   "outputs": [
    {
     "data": {
      "text/plain": [
       "array([12.38 , 13.552, 12.312])"
      ]
     },
     "execution_count": 194,
     "metadata": {},
     "output_type": "execute_result"
    }
   ],
   "source": [
    "# Or straight away we may write the function as below:\n",
    "np.matmul(X, w_new)"
   ]
  },
  {
   "cell_type": "markdown",
   "id": "56aa8eff",
   "metadata": {},
   "source": [
    "### Training a linear regression model"
   ]
  },
  {
   "cell_type": "markdown",
   "id": "9d3b1e35",
   "metadata": {},
   "source": [
    "- Our aim in this whole process is to find the best set of weights w that minimizes the error in our predictions.\n",
    "- Mathematically, we can express this as given below:"
   ]
  },
  {
   "attachments": {
    "image.png": {
     "image/png": "[encoded data removed]"
    }
   },
   "cell_type": "markdown",
   "id": "9157f647",
   "metadata": {},
   "source": [
    "![image.png](attachment:image.png)"
   ]
  },
  {
   "cell_type": "markdown",
   "id": "7338b216",
   "metadata": {},
   "source": [
    "- and the above shown formula directly translates to\n",
    "`np.linalg.inv(X.T.dot(X)).dot(X.T).dot(y)`"
   ]
  },
  {
   "cell_type": "code",
   "execution_count": 239,
   "id": "e6ec30d6",
   "metadata": {},
   "outputs": [],
   "source": [
    "def train_linear_regression(X, y):\n",
    "    # add dummy column of 1s to X:\n",
    "    ones = np.ones(X.shape[0])\n",
    "    X = np.column_stack((ones, X))\n",
    "\n",
    "    # calculate weights using the normal equation\n",
    "    w = np.linalg.inv(np.matmul(X.T, X)).dot(X.T).dot(y)\n",
    "\n",
    "    return w[0], w[1:]\n",
    "\n",
    "# alternatively\n",
    "# def train_linear_regression(X, y):\n",
    "#     # add dummy column of 1s to X:\n",
    "#     ones = np.ones(X.shape[0]).reshape(X.shape[0], -1)\n",
    "#     X = np.hstack((ones, X))\n",
    "\n",
    "#     # calculate weights using the normal equation\n",
    "#     w = np.linalg.inv(np.matmul(X.T, X)).dot(X.T).dot(y)\n",
    "\n",
    "#     return w[0], w[1:]"
   ]
  },
  {
   "cell_type": "markdown",
   "id": "27c8a25d",
   "metadata": {},
   "source": [
    "### Baseline Model"
   ]
  },
  {
   "cell_type": "code",
   "execution_count": 246,
   "id": "7854c9cb",
   "metadata": {},
   "outputs": [
    {
     "data": {
      "text/html": [
       "<div>\n",
       "<style scoped>\n",
       "    .dataframe tbody tr th:only-of-type {\n",
       "        vertical-align: middle;\n",
       "    }\n",
       "\n",
       "    .dataframe tbody tr th {\n",
       "        vertical-align: top;\n",
       "    }\n",
       "\n",
       "    .dataframe thead th {\n",
       "        text-align: right;\n",
       "    }\n",
       "</style>\n",
       "<table border=\"1\" class=\"dataframe\">\n",
       "  <thead>\n",
       "    <tr style=\"text-align: right;\">\n",
       "      <th></th>\n",
       "      <th>make</th>\n",
       "      <th>model</th>\n",
       "      <th>year</th>\n",
       "      <th>engine_fuel_type</th>\n",
       "      <th>engine_hp</th>\n",
       "      <th>engine_cylinders</th>\n",
       "      <th>transmission_type</th>\n",
       "      <th>driven_wheels</th>\n",
       "      <th>number_of_doors</th>\n",
       "      <th>market_category</th>\n",
       "      <th>vehicle_size</th>\n",
       "      <th>vehicle_style</th>\n",
       "      <th>highway_mpg</th>\n",
       "      <th>city_mpg</th>\n",
       "      <th>popularity</th>\n",
       "    </tr>\n",
       "  </thead>\n",
       "  <tbody>\n",
       "    <tr>\n",
       "      <th>0</th>\n",
       "      <td>chevrolet</td>\n",
       "      <td>cobalt</td>\n",
       "      <td>2008</td>\n",
       "      <td>regular_unleaded</td>\n",
       "      <td>148.0</td>\n",
       "      <td>4.0</td>\n",
       "      <td>manual</td>\n",
       "      <td>front_wheel_drive</td>\n",
       "      <td>2.0</td>\n",
       "      <td>NaN</td>\n",
       "      <td>compact</td>\n",
       "      <td>coupe</td>\n",
       "      <td>33</td>\n",
       "      <td>24</td>\n",
       "      <td>1385</td>\n",
       "    </tr>\n",
       "    <tr>\n",
       "      <th>1</th>\n",
       "      <td>toyota</td>\n",
       "      <td>matrix</td>\n",
       "      <td>2012</td>\n",
       "      <td>regular_unleaded</td>\n",
       "      <td>132.0</td>\n",
       "      <td>4.0</td>\n",
       "      <td>automatic</td>\n",
       "      <td>front_wheel_drive</td>\n",
       "      <td>4.0</td>\n",
       "      <td>hatchback</td>\n",
       "      <td>compact</td>\n",
       "      <td>4dr_hatchback</td>\n",
       "      <td>32</td>\n",
       "      <td>25</td>\n",
       "      <td>2031</td>\n",
       "    </tr>\n",
       "    <tr>\n",
       "      <th>2</th>\n",
       "      <td>subaru</td>\n",
       "      <td>impreza</td>\n",
       "      <td>2016</td>\n",
       "      <td>regular_unleaded</td>\n",
       "      <td>148.0</td>\n",
       "      <td>4.0</td>\n",
       "      <td>automatic</td>\n",
       "      <td>all_wheel_drive</td>\n",
       "      <td>4.0</td>\n",
       "      <td>hatchback</td>\n",
       "      <td>compact</td>\n",
       "      <td>4dr_hatchback</td>\n",
       "      <td>37</td>\n",
       "      <td>28</td>\n",
       "      <td>640</td>\n",
       "    </tr>\n",
       "  </tbody>\n",
       "</table>\n",
       "</div>"
      ],
      "text/plain": [
       "        make    model  year  engine_fuel_type  engine_hp  engine_cylinders  \\\n",
       "0  chevrolet   cobalt  2008  regular_unleaded      148.0               4.0   \n",
       "1     toyota   matrix  2012  regular_unleaded      132.0               4.0   \n",
       "2     subaru  impreza  2016  regular_unleaded      148.0               4.0   \n",
       "\n",
       "  transmission_type      driven_wheels  number_of_doors market_category  \\\n",
       "0            manual  front_wheel_drive              2.0             NaN   \n",
       "1         automatic  front_wheel_drive              4.0       hatchback   \n",
       "2         automatic    all_wheel_drive              4.0       hatchback   \n",
       "\n",
       "  vehicle_size  vehicle_style  highway_mpg  city_mpg  popularity  \n",
       "0      compact          coupe           33        24        1385  \n",
       "1      compact  4dr_hatchback           32        25        2031  \n",
       "2      compact  4dr_hatchback           37        28         640  "
      ]
     },
     "execution_count": 246,
     "metadata": {},
     "output_type": "execute_result"
    }
   ],
   "source": [
    "df_train.head(3)"
   ]
  },
  {
   "cell_type": "code",
   "execution_count": 249,
   "id": "d7b12e48",
   "metadata": {},
   "outputs": [
    {
     "data": {
      "text/html": [
       "<div>\n",
       "<style scoped>\n",
       "    .dataframe tbody tr th:only-of-type {\n",
       "        vertical-align: middle;\n",
       "    }\n",
       "\n",
       "    .dataframe tbody tr th {\n",
       "        vertical-align: top;\n",
       "    }\n",
       "\n",
       "    .dataframe thead th {\n",
       "        text-align: right;\n",
       "    }\n",
       "</style>\n",
       "<table border=\"1\" class=\"dataframe\">\n",
       "  <thead>\n",
       "    <tr style=\"text-align: right;\">\n",
       "      <th></th>\n",
       "      <th>engine_hp</th>\n",
       "      <th>engine_cylinders</th>\n",
       "      <th>highway_mpg</th>\n",
       "      <th>city_mpg</th>\n",
       "      <th>popularity</th>\n",
       "    </tr>\n",
       "  </thead>\n",
       "  <tbody>\n",
       "    <tr>\n",
       "      <th>0</th>\n",
       "      <td>148.0</td>\n",
       "      <td>4.0</td>\n",
       "      <td>33</td>\n",
       "      <td>24</td>\n",
       "      <td>1385</td>\n",
       "    </tr>\n",
       "    <tr>\n",
       "      <th>1</th>\n",
       "      <td>132.0</td>\n",
       "      <td>4.0</td>\n",
       "      <td>32</td>\n",
       "      <td>25</td>\n",
       "      <td>2031</td>\n",
       "    </tr>\n",
       "    <tr>\n",
       "      <th>2</th>\n",
       "      <td>148.0</td>\n",
       "      <td>4.0</td>\n",
       "      <td>37</td>\n",
       "      <td>28</td>\n",
       "      <td>640</td>\n",
       "    </tr>\n",
       "  </tbody>\n",
       "</table>\n",
       "</div>"
      ],
      "text/plain": [
       "   engine_hp  engine_cylinders  highway_mpg  city_mpg  popularity\n",
       "0      148.0               4.0           33        24        1385\n",
       "1      132.0               4.0           32        25        2031\n",
       "2      148.0               4.0           37        28         640"
      ]
     },
     "execution_count": 249,
     "metadata": {},
     "output_type": "execute_result"
    }
   ],
   "source": [
    "base = ['engine_hp', 'engine_cylinders', 'highway_mpg', 'city_mpg', 'popularity']\n",
    "df_train_num = df_train[base]\n",
    "df_train_num.head(3)"
   ]
  },
  {
   "cell_type": "code",
   "execution_count": 250,
   "id": "5686a7e0",
   "metadata": {},
   "outputs": [],
   "source": [
    "df_train_num = df_train_num.fillna(0)\n",
    "X_train = df_train_num.values"
   ]
  },
  {
   "cell_type": "code",
   "execution_count": 251,
   "id": "76e609dc",
   "metadata": {},
   "outputs": [
    {
     "data": {
      "text/plain": [
       "array([[ 148.,    4.,   33.,   24., 1385.],\n",
       "       [ 132.,    4.,   32.,   25., 2031.],\n",
       "       [ 148.,    4.,   37.,   28.,  640.],\n",
       "       ...,\n",
       "       [ 285.,    6.,   22.,   17.,  549.],\n",
       "       [ 563.,   12.,   21.,   13.,   86.],\n",
       "       [ 200.,    4.,   31.,   22.,  873.]], shape=(7150, 5))"
      ]
     },
     "execution_count": 251,
     "metadata": {},
     "output_type": "execute_result"
    }
   ],
   "source": [
    "X_train"
   ]
  },
  {
   "cell_type": "code",
   "execution_count": 253,
   "id": "02d84c6b",
   "metadata": {},
   "outputs": [
    {
     "data": {
      "text/plain": [
       "array([ 9.57574708,  9.887663  ,  9.89323518, ..., 10.45380308,\n",
       "       12.62248099, 10.54061978], shape=(7150,))"
      ]
     },
     "execution_count": 253,
     "metadata": {},
     "output_type": "execute_result"
    }
   ],
   "source": [
    "y_train"
   ]
  },
  {
   "cell_type": "code",
   "execution_count": 254,
   "id": "54858d69",
   "metadata": {},
   "outputs": [],
   "source": [
    "w_0, w = train_linear_regression(X_train, y_train)"
   ]
  },
  {
   "cell_type": "code",
   "execution_count": 257,
   "id": "9f9624a4",
   "metadata": {},
   "outputs": [
    {
     "data": {
      "text/plain": [
       "array([ 9.54792783,  9.38733977,  9.67197758, ..., 10.30423015,\n",
       "       11.9778914 ,  9.99863111], shape=(7150,))"
      ]
     },
     "execution_count": 257,
     "metadata": {},
     "output_type": "execute_result"
    }
   ],
   "source": [
    "y_pred = w_0 + np.matmul(X_train, w)\n",
    "y_pred"
   ]
  },
  {
   "cell_type": "code",
   "execution_count": 263,
   "id": "d1f4e060",
   "metadata": {},
   "outputs": [
    {
     "data": {
      "image/png": "[encoded data removed]",
      "text/plain": [
       "<Figure size 640x480 with 1 Axes>"
      ]
     },
     "metadata": {},
     "output_type": "display_data"
    }
   ],
   "source": [
    "sns.histplot(y_pred, bins = 50, color = 'red', label = 'predicted')\n",
    "sns.histplot(y_train, bins = 50, color = 'blue', alpha = 0.5, label = 'actual')\n",
    "plt.legend()\n",
    "plt.title('Distribution of predicted vs actual')\n",
    "plt.show()"
   ]
  },
  {
   "cell_type": "markdown",
   "id": "09a8e10a",
   "metadata": {},
   "source": [
    "- We can see from the above plot that the distribution of values we predicted looks quite different from the actual values. \n",
    "- This result may indicate that the model is not powerful enough to capture the distribution of the target variable. \n",
    "- This shouldn’t be a surprise to us: the model we used is quite basic and includes only five very simplefeatures."
   ]
  },
  {
   "cell_type": "markdown",
   "id": "9426a8dc",
   "metadata": {},
   "source": [
    "### Root Mean Squared Error (RMSE)"
   ]
  },
  {
   "attachments": {
    "image.png": {
     "image/png": "[encoded data removed]"
    }
   },
   "cell_type": "markdown",
   "id": "0eef8f96",
   "metadata": {},
   "source": [
    "- It is a metric that quantifies the quality of the model.\n",
    "\n",
    "![image.png](attachment:image.png)"
   ]
  },
  {
   "cell_type": "code",
   "execution_count": 325,
   "id": "2d730ae0",
   "metadata": {},
   "outputs": [],
   "source": [
    "def rmse(y_pred, y_train):\n",
    "    return np.sqrt(((y_pred - y_train) ** 2).mean())"
   ]
  },
  {
   "cell_type": "code",
   "execution_count": null,
   "id": "0fdce32f",
   "metadata": {},
   "outputs": [
    {
     "name": "stdout",
     "output_type": "stream",
     "text": [
      "Root Mean Squared Error of the model on training set is: 0.76\n"
     ]
    }
   ],
   "source": [
    "rmse_train = rmse(y_pred, y_train)\n",
    "print(f'Root Mean Squared Error of the model on training set is: {rmse_train.round(2)}')"
   ]
  },
  {
   "cell_type": "markdown",
   "id": "f50459aa",
   "metadata": {},
   "source": [
    "### Validating the model on validation set"
   ]
  },
  {
   "cell_type": "code",
   "execution_count": 303,
   "id": "d2621437",
   "metadata": {},
   "outputs": [
    {
     "data": {
      "text/html": [
       "<div>\n",
       "<style scoped>\n",
       "    .dataframe tbody tr th:only-of-type {\n",
       "        vertical-align: middle;\n",
       "    }\n",
       "\n",
       "    .dataframe tbody tr th {\n",
       "        vertical-align: top;\n",
       "    }\n",
       "\n",
       "    .dataframe thead th {\n",
       "        text-align: right;\n",
       "    }\n",
       "</style>\n",
       "<table border=\"1\" class=\"dataframe\">\n",
       "  <thead>\n",
       "    <tr style=\"text-align: right;\">\n",
       "      <th></th>\n",
       "      <th>make</th>\n",
       "      <th>model</th>\n",
       "      <th>year</th>\n",
       "      <th>engine_fuel_type</th>\n",
       "      <th>engine_hp</th>\n",
       "      <th>engine_cylinders</th>\n",
       "      <th>transmission_type</th>\n",
       "      <th>driven_wheels</th>\n",
       "      <th>number_of_doors</th>\n",
       "      <th>market_category</th>\n",
       "      <th>vehicle_size</th>\n",
       "      <th>vehicle_style</th>\n",
       "      <th>highway_mpg</th>\n",
       "      <th>city_mpg</th>\n",
       "      <th>popularity</th>\n",
       "    </tr>\n",
       "  </thead>\n",
       "  <tbody>\n",
       "    <tr>\n",
       "      <th>0</th>\n",
       "      <td>chevrolet</td>\n",
       "      <td>colorado</td>\n",
       "      <td>2015</td>\n",
       "      <td>regular_unleaded</td>\n",
       "      <td>200.0</td>\n",
       "      <td>4.0</td>\n",
       "      <td>automatic</td>\n",
       "      <td>four_wheel_drive</td>\n",
       "      <td>4.0</td>\n",
       "      <td>NaN</td>\n",
       "      <td>compact</td>\n",
       "      <td>extended_cab_pickup</td>\n",
       "      <td>25</td>\n",
       "      <td>19</td>\n",
       "      <td>1385</td>\n",
       "    </tr>\n",
       "    <tr>\n",
       "      <th>1</th>\n",
       "      <td>mercedes-benz</td>\n",
       "      <td>e-class</td>\n",
       "      <td>2017</td>\n",
       "      <td>premium_unleaded_(required)</td>\n",
       "      <td>241.0</td>\n",
       "      <td>4.0</td>\n",
       "      <td>automatic</td>\n",
       "      <td>all_wheel_drive</td>\n",
       "      <td>4.0</td>\n",
       "      <td>luxury</td>\n",
       "      <td>midsize</td>\n",
       "      <td>sedan</td>\n",
       "      <td>29</td>\n",
       "      <td>22</td>\n",
       "      <td>617</td>\n",
       "    </tr>\n",
       "    <tr>\n",
       "      <th>2</th>\n",
       "      <td>ford</td>\n",
       "      <td>focus</td>\n",
       "      <td>2017</td>\n",
       "      <td>flex-fuel_(unleaded/e85)</td>\n",
       "      <td>160.0</td>\n",
       "      <td>4.0</td>\n",
       "      <td>manual</td>\n",
       "      <td>front_wheel_drive</td>\n",
       "      <td>4.0</td>\n",
       "      <td>flex_fuel</td>\n",
       "      <td>compact</td>\n",
       "      <td>sedan</td>\n",
       "      <td>36</td>\n",
       "      <td>26</td>\n",
       "      <td>5657</td>\n",
       "    </tr>\n",
       "  </tbody>\n",
       "</table>\n",
       "</div>"
      ],
      "text/plain": [
       "            make     model  year             engine_fuel_type  engine_hp  \\\n",
       "0      chevrolet  colorado  2015             regular_unleaded      200.0   \n",
       "1  mercedes-benz   e-class  2017  premium_unleaded_(required)      241.0   \n",
       "2           ford     focus  2017     flex-fuel_(unleaded/e85)      160.0   \n",
       "\n",
       "   engine_cylinders transmission_type      driven_wheels  number_of_doors  \\\n",
       "0               4.0         automatic   four_wheel_drive              4.0   \n",
       "1               4.0         automatic    all_wheel_drive              4.0   \n",
       "2               4.0            manual  front_wheel_drive              4.0   \n",
       "\n",
       "  market_category vehicle_size        vehicle_style  highway_mpg  city_mpg  \\\n",
       "0             NaN      compact  extended_cab_pickup           25        19   \n",
       "1          luxury      midsize                sedan           29        22   \n",
       "2       flex_fuel      compact                sedan           36        26   \n",
       "\n",
       "   popularity  \n",
       "0        1385  \n",
       "1         617  \n",
       "2        5657  "
      ]
     },
     "execution_count": 303,
     "metadata": {},
     "output_type": "execute_result"
    }
   ],
   "source": [
    "df_validation.head(3)"
   ]
  },
  {
   "cell_type": "code",
   "execution_count": 304,
   "id": "f26467a3",
   "metadata": {},
   "outputs": [
    {
     "data": {
      "text/plain": [
       "['engine_hp', 'engine_cylinders', 'highway_mpg', 'city_mpg', 'popularity']"
      ]
     },
     "execution_count": 304,
     "metadata": {},
     "output_type": "execute_result"
    }
   ],
   "source": [
    "base"
   ]
  },
  {
   "cell_type": "code",
   "execution_count": 305,
   "id": "bd1ff109",
   "metadata": {},
   "outputs": [
    {
     "data": {
      "text/html": [
       "<div>\n",
       "<style scoped>\n",
       "    .dataframe tbody tr th:only-of-type {\n",
       "        vertical-align: middle;\n",
       "    }\n",
       "\n",
       "    .dataframe tbody tr th {\n",
       "        vertical-align: top;\n",
       "    }\n",
       "\n",
       "    .dataframe thead th {\n",
       "        text-align: right;\n",
       "    }\n",
       "</style>\n",
       "<table border=\"1\" class=\"dataframe\">\n",
       "  <thead>\n",
       "    <tr style=\"text-align: right;\">\n",
       "      <th></th>\n",
       "      <th>engine_hp</th>\n",
       "      <th>engine_cylinders</th>\n",
       "      <th>highway_mpg</th>\n",
       "      <th>city_mpg</th>\n",
       "      <th>popularity</th>\n",
       "    </tr>\n",
       "  </thead>\n",
       "  <tbody>\n",
       "    <tr>\n",
       "      <th>0</th>\n",
       "      <td>200.0</td>\n",
       "      <td>4.0</td>\n",
       "      <td>25</td>\n",
       "      <td>19</td>\n",
       "      <td>1385</td>\n",
       "    </tr>\n",
       "    <tr>\n",
       "      <th>1</th>\n",
       "      <td>241.0</td>\n",
       "      <td>4.0</td>\n",
       "      <td>29</td>\n",
       "      <td>22</td>\n",
       "      <td>617</td>\n",
       "    </tr>\n",
       "    <tr>\n",
       "      <th>2</th>\n",
       "      <td>160.0</td>\n",
       "      <td>4.0</td>\n",
       "      <td>36</td>\n",
       "      <td>26</td>\n",
       "      <td>5657</td>\n",
       "    </tr>\n",
       "  </tbody>\n",
       "</table>\n",
       "</div>"
      ],
      "text/plain": [
       "   engine_hp  engine_cylinders  highway_mpg  city_mpg  popularity\n",
       "0      200.0               4.0           25        19        1385\n",
       "1      241.0               4.0           29        22         617\n",
       "2      160.0               4.0           36        26        5657"
      ]
     },
     "execution_count": 305,
     "metadata": {},
     "output_type": "execute_result"
    }
   ],
   "source": [
    "df_validation_new = df_validation[base]\n",
    "df_validation_new.head(3)"
   ]
  },
  {
   "cell_type": "code",
   "execution_count": null,
   "id": "4b283ac3",
   "metadata": {},
   "outputs": [
    {
     "data": {
      "text/html": [
       "<div>\n",
       "<style scoped>\n",
       "    .dataframe tbody tr th:only-of-type {\n",
       "        vertical-align: middle;\n",
       "    }\n",
       "\n",
       "    .dataframe tbody tr th {\n",
       "        vertical-align: top;\n",
       "    }\n",
       "\n",
       "    .dataframe thead th {\n",
       "        text-align: right;\n",
       "    }\n",
       "</style>\n",
       "<table border=\"1\" class=\"dataframe\">\n",
       "  <thead>\n",
       "    <tr style=\"text-align: right;\">\n",
       "      <th></th>\n",
       "      <th>engine_hp</th>\n",
       "      <th>engine_cylinders</th>\n",
       "      <th>highway_mpg</th>\n",
       "      <th>city_mpg</th>\n",
       "      <th>popularity</th>\n",
       "    </tr>\n",
       "  </thead>\n",
       "  <tbody>\n",
       "    <tr>\n",
       "      <th>0</th>\n",
       "      <td>200.0</td>\n",
       "      <td>4.0</td>\n",
       "      <td>25</td>\n",
       "      <td>19</td>\n",
       "      <td>1385</td>\n",
       "    </tr>\n",
       "    <tr>\n",
       "      <th>1</th>\n",
       "      <td>241.0</td>\n",
       "      <td>4.0</td>\n",
       "      <td>29</td>\n",
       "      <td>22</td>\n",
       "      <td>617</td>\n",
       "    </tr>\n",
       "    <tr>\n",
       "      <th>2</th>\n",
       "      <td>160.0</td>\n",
       "      <td>4.0</td>\n",
       "      <td>36</td>\n",
       "      <td>26</td>\n",
       "      <td>5657</td>\n",
       "    </tr>\n",
       "    <tr>\n",
       "      <th>3</th>\n",
       "      <td>290.0</td>\n",
       "      <td>6.0</td>\n",
       "      <td>34</td>\n",
       "      <td>21</td>\n",
       "      <td>204</td>\n",
       "    </tr>\n",
       "    <tr>\n",
       "      <th>4</th>\n",
       "      <td>170.0</td>\n",
       "      <td>4.0</td>\n",
       "      <td>34</td>\n",
       "      <td>25</td>\n",
       "      <td>873</td>\n",
       "    </tr>\n",
       "    <tr>\n",
       "      <th>...</th>\n",
       "      <td>...</td>\n",
       "      <td>...</td>\n",
       "      <td>...</td>\n",
       "      <td>...</td>\n",
       "      <td>...</td>\n",
       "    </tr>\n",
       "    <tr>\n",
       "      <th>2377</th>\n",
       "      <td>240.0</td>\n",
       "      <td>4.0</td>\n",
       "      <td>37</td>\n",
       "      <td>25</td>\n",
       "      <td>870</td>\n",
       "    </tr>\n",
       "    <tr>\n",
       "      <th>2378</th>\n",
       "      <td>444.0</td>\n",
       "      <td>8.0</td>\n",
       "      <td>20</td>\n",
       "      <td>13</td>\n",
       "      <td>238</td>\n",
       "    </tr>\n",
       "    <tr>\n",
       "      <th>2379</th>\n",
       "      <td>332.0</td>\n",
       "      <td>8.0</td>\n",
       "      <td>23</td>\n",
       "      <td>20</td>\n",
       "      <td>1624</td>\n",
       "    </tr>\n",
       "    <tr>\n",
       "      <th>2380</th>\n",
       "      <td>148.0</td>\n",
       "      <td>4.0</td>\n",
       "      <td>34</td>\n",
       "      <td>24</td>\n",
       "      <td>436</td>\n",
       "    </tr>\n",
       "    <tr>\n",
       "      <th>2381</th>\n",
       "      <td>290.0</td>\n",
       "      <td>6.0</td>\n",
       "      <td>25</td>\n",
       "      <td>18</td>\n",
       "      <td>1720</td>\n",
       "    </tr>\n",
       "  </tbody>\n",
       "</table>\n",
       "<p>2382 rows × 5 columns</p>\n",
       "</div>"
      ],
      "text/plain": [
       "      engine_hp  engine_cylinders  highway_mpg  city_mpg  popularity\n",
       "0         200.0               4.0           25        19        1385\n",
       "1         241.0               4.0           29        22         617\n",
       "2         160.0               4.0           36        26        5657\n",
       "3         290.0               6.0           34        21         204\n",
       "4         170.0               4.0           34        25         873\n",
       "...         ...               ...          ...       ...         ...\n",
       "2377      240.0               4.0           37        25         870\n",
       "2378      444.0               8.0           20        13         238\n",
       "2379      332.0               8.0           23        20        1624\n",
       "2380      148.0               4.0           34        24         436\n",
       "2381      290.0               6.0           25        18        1720\n",
       "\n",
       "[2382 rows x 5 columns]"
      ]
     },
     "execution_count": 306,
     "metadata": {},
     "output_type": "execute_result"
    }
   ],
   "source": [
    "df_validation_new = df_validation_new.fillna(0)"
   ]
  },
  {
   "cell_type": "code",
   "execution_count": 307,
   "id": "0b77ca17",
   "metadata": {},
   "outputs": [
    {
     "data": {
      "text/plain": [
       "array([[2.000e+02, 4.000e+00, 2.500e+01, 1.900e+01, 1.385e+03],\n",
       "       [2.410e+02, 4.000e+00, 2.900e+01, 2.200e+01, 6.170e+02],\n",
       "       [1.600e+02, 4.000e+00, 3.600e+01, 2.600e+01, 5.657e+03],\n",
       "       ...,\n",
       "       [3.320e+02, 8.000e+00, 2.300e+01, 2.000e+01, 1.624e+03],\n",
       "       [1.480e+02, 4.000e+00, 3.400e+01, 2.400e+01, 4.360e+02],\n",
       "       [2.900e+02, 6.000e+00, 2.500e+01, 1.800e+01, 1.720e+03]],\n",
       "      shape=(2382, 5))"
      ]
     },
     "execution_count": 307,
     "metadata": {},
     "output_type": "execute_result"
    }
   ],
   "source": [
    "X_validation = df_validation_new.values\n",
    "X_validation"
   ]
  },
  {
   "cell_type": "code",
   "execution_count": 308,
   "id": "54f26f2f",
   "metadata": {},
   "outputs": [
    {
     "data": {
      "text/plain": [
       "array([10.19936098, 10.90872279,  9.72770457, ..., 11.21756062,\n",
       "        9.77542688, 10.1924563 ], shape=(2382,))"
      ]
     },
     "execution_count": 308,
     "metadata": {},
     "output_type": "execute_result"
    }
   ],
   "source": [
    "y_validation"
   ]
  },
  {
   "cell_type": "code",
   "execution_count": 309,
   "id": "79bce433",
   "metadata": {},
   "outputs": [
    {
     "data": {
      "text/plain": [
       "array([ 9.86288014, 10.37013608,  9.69868129, ..., 10.4916625 ,\n",
       "        9.57091361, 10.40022147], shape=(2382,))"
      ]
     },
     "execution_count": 309,
     "metadata": {},
     "output_type": "execute_result"
    }
   ],
   "source": [
    "y_validation_pred = w_0 + np.matmul(X_validation, w)\n",
    "y_validation_pred"
   ]
  },
  {
   "cell_type": "code",
   "execution_count": 317,
   "id": "a177406b",
   "metadata": {},
   "outputs": [
    {
     "name": "stdout",
     "output_type": "stream",
     "text": [
      "Root Mean Squared Error of the model on training set is: 0.76\n"
     ]
    }
   ],
   "source": [
    "rmse_train = rmse(y_validation_pred, y_validation)\n",
    "print(f'Root Mean Squared Error of the model on training set is: {rmse_train.round(2)}')"
   ]
  },
  {
   "cell_type": "markdown",
   "id": "aa1dd563",
   "metadata": {},
   "source": [
    "- Now let us introduce a function, which reduces our effort in terms of preparing the dataframe into a format suitable for regression."
   ]
  },
  {
   "cell_type": "code",
   "execution_count": 319,
   "id": "cb221e26",
   "metadata": {},
   "outputs": [],
   "source": [
    "def prepare_X(df):\n",
    "    df_num = df[base]\n",
    "    df_num = df_num.fillna(0)\n",
    "    X = df_num.values\n",
    "    return X"
   ]
  },
  {
   "cell_type": "code",
   "execution_count": 320,
   "id": "4cc52207",
   "metadata": {},
   "outputs": [],
   "source": [
    "# We also have the following ones:\n",
    "X_train = prepare_X(df_train)\n",
    "w_0, w = train_linear_regression(X_train, y_train)"
   ]
  },
  {
   "cell_type": "code",
   "execution_count": 321,
   "id": "cbf16440",
   "metadata": {},
   "outputs": [
    {
     "name": "stdout",
     "output_type": "stream",
     "text": [
      "validation: 0.761653099130156\n"
     ]
    }
   ],
   "source": [
    "# For validation\n",
    "X_val = prepare_X(df_validation)\n",
    "y_pred = w_0 + X_val.dot(w)\n",
    "print('validation:', rmse(y_validation, y_pred))"
   ]
  },
  {
   "cell_type": "markdown",
   "id": "e5a748c7",
   "metadata": {},
   "source": [
    "### Feature Engineering"
   ]
  },
  {
   "cell_type": "markdown",
   "id": "43129ddf",
   "metadata": {},
   "source": [
    "- we have already set up the validation framework, we can easily verify whether adding new features improves the quality of the model.\n",
    "- Our aim is to improve the RMSE calculated on the validation data."
   ]
  },
  {
   "cell_type": "markdown",
   "id": "fcb5d62f",
   "metadata": {},
   "source": [
    "- First, we create a new feature, “age,” from the feature “year.” The age of a car should be very helpful when predicting its price: intuitively, the newer the car, the more expensive it should be.\n",
    "- Because the dataset was created in 2017 (which we can verify by checking df_train.year.max()), we can calculate the age by subtracting the year when the car was made from 2017:"
   ]
  },
  {
   "cell_type": "code",
   "execution_count": 322,
   "id": "f56c250d",
   "metadata": {},
   "outputs": [
    {
     "name": "stderr",
     "output_type": "stream",
     "text": [
      "C:\\Users\\devar\\AppData\\Local\\Temp\\ipykernel_26532\\3591953268.py:1: SettingWithCopyWarning: \n",
      "A value is trying to be set on a copy of a slice from a DataFrame.\n",
      "Try using .loc[row_indexer,col_indexer] = value instead\n",
      "\n",
      "See the caveats in the documentation: https://pandas.pydata.org/pandas-docs/stable/user_guide/indexing.html#returning-a-view-versus-a-copy\n",
      "  df_train['age'] = 2017 - df_train['year']\n"
     ]
    }
   ],
   "source": [
    "df_train['age'] = 2017 - df_train['year']"
   ]
  },
  {
   "cell_type": "markdown",
   "id": "867ba82f",
   "metadata": {},
   "source": [
    "- now let us try to add this calculatig age step into the preprocessing function."
   ]
  },
  {
   "cell_type": "code",
   "execution_count": 323,
   "id": "aab18cf3",
   "metadata": {},
   "outputs": [
    {
     "data": {
      "text/html": [
       "<div>\n",
       "<style scoped>\n",
       "    .dataframe tbody tr th:only-of-type {\n",
       "        vertical-align: middle;\n",
       "    }\n",
       "\n",
       "    .dataframe tbody tr th {\n",
       "        vertical-align: top;\n",
       "    }\n",
       "\n",
       "    .dataframe thead th {\n",
       "        text-align: right;\n",
       "    }\n",
       "</style>\n",
       "<table border=\"1\" class=\"dataframe\">\n",
       "  <thead>\n",
       "    <tr style=\"text-align: right;\">\n",
       "      <th></th>\n",
       "      <th>make</th>\n",
       "      <th>model</th>\n",
       "      <th>year</th>\n",
       "      <th>engine_fuel_type</th>\n",
       "      <th>engine_hp</th>\n",
       "      <th>engine_cylinders</th>\n",
       "      <th>transmission_type</th>\n",
       "      <th>driven_wheels</th>\n",
       "      <th>number_of_doors</th>\n",
       "      <th>market_category</th>\n",
       "      <th>vehicle_size</th>\n",
       "      <th>vehicle_style</th>\n",
       "      <th>highway_mpg</th>\n",
       "      <th>city_mpg</th>\n",
       "      <th>popularity</th>\n",
       "      <th>age</th>\n",
       "    </tr>\n",
       "  </thead>\n",
       "  <tbody>\n",
       "    <tr>\n",
       "      <th>0</th>\n",
       "      <td>chevrolet</td>\n",
       "      <td>cobalt</td>\n",
       "      <td>2008</td>\n",
       "      <td>regular_unleaded</td>\n",
       "      <td>148.0</td>\n",
       "      <td>4.0</td>\n",
       "      <td>manual</td>\n",
       "      <td>front_wheel_drive</td>\n",
       "      <td>2.0</td>\n",
       "      <td>NaN</td>\n",
       "      <td>compact</td>\n",
       "      <td>coupe</td>\n",
       "      <td>33</td>\n",
       "      <td>24</td>\n",
       "      <td>1385</td>\n",
       "      <td>9</td>\n",
       "    </tr>\n",
       "    <tr>\n",
       "      <th>1</th>\n",
       "      <td>toyota</td>\n",
       "      <td>matrix</td>\n",
       "      <td>2012</td>\n",
       "      <td>regular_unleaded</td>\n",
       "      <td>132.0</td>\n",
       "      <td>4.0</td>\n",
       "      <td>automatic</td>\n",
       "      <td>front_wheel_drive</td>\n",
       "      <td>4.0</td>\n",
       "      <td>hatchback</td>\n",
       "      <td>compact</td>\n",
       "      <td>4dr_hatchback</td>\n",
       "      <td>32</td>\n",
       "      <td>25</td>\n",
       "      <td>2031</td>\n",
       "      <td>5</td>\n",
       "    </tr>\n",
       "    <tr>\n",
       "      <th>2</th>\n",
       "      <td>subaru</td>\n",
       "      <td>impreza</td>\n",
       "      <td>2016</td>\n",
       "      <td>regular_unleaded</td>\n",
       "      <td>148.0</td>\n",
       "      <td>4.0</td>\n",
       "      <td>automatic</td>\n",
       "      <td>all_wheel_drive</td>\n",
       "      <td>4.0</td>\n",
       "      <td>hatchback</td>\n",
       "      <td>compact</td>\n",
       "      <td>4dr_hatchback</td>\n",
       "      <td>37</td>\n",
       "      <td>28</td>\n",
       "      <td>640</td>\n",
       "      <td>1</td>\n",
       "    </tr>\n",
       "    <tr>\n",
       "      <th>3</th>\n",
       "      <td>volkswagen</td>\n",
       "      <td>vanagon</td>\n",
       "      <td>1991</td>\n",
       "      <td>regular_unleaded</td>\n",
       "      <td>90.0</td>\n",
       "      <td>4.0</td>\n",
       "      <td>manual</td>\n",
       "      <td>rear_wheel_drive</td>\n",
       "      <td>3.0</td>\n",
       "      <td>NaN</td>\n",
       "      <td>large</td>\n",
       "      <td>passenger_minivan</td>\n",
       "      <td>18</td>\n",
       "      <td>16</td>\n",
       "      <td>873</td>\n",
       "      <td>26</td>\n",
       "    </tr>\n",
       "    <tr>\n",
       "      <th>4</th>\n",
       "      <td>ford</td>\n",
       "      <td>f-150</td>\n",
       "      <td>2017</td>\n",
       "      <td>flex-fuel_(unleaded/e85)</td>\n",
       "      <td>385.0</td>\n",
       "      <td>8.0</td>\n",
       "      <td>automatic</td>\n",
       "      <td>four_wheel_drive</td>\n",
       "      <td>4.0</td>\n",
       "      <td>flex_fuel</td>\n",
       "      <td>large</td>\n",
       "      <td>crew_cab_pickup</td>\n",
       "      <td>21</td>\n",
       "      <td>15</td>\n",
       "      <td>5657</td>\n",
       "      <td>0</td>\n",
       "    </tr>\n",
       "    <tr>\n",
       "      <th>...</th>\n",
       "      <td>...</td>\n",
       "      <td>...</td>\n",
       "      <td>...</td>\n",
       "      <td>...</td>\n",
       "      <td>...</td>\n",
       "      <td>...</td>\n",
       "      <td>...</td>\n",
       "      <td>...</td>\n",
       "      <td>...</td>\n",
       "      <td>...</td>\n",
       "      <td>...</td>\n",
       "      <td>...</td>\n",
       "      <td>...</td>\n",
       "      <td>...</td>\n",
       "      <td>...</td>\n",
       "      <td>...</td>\n",
       "    </tr>\n",
       "    <tr>\n",
       "      <th>7145</th>\n",
       "      <td>bmw</td>\n",
       "      <td>4_series</td>\n",
       "      <td>2015</td>\n",
       "      <td>premium_unleaded_(required)</td>\n",
       "      <td>300.0</td>\n",
       "      <td>6.0</td>\n",
       "      <td>automatic</td>\n",
       "      <td>rear_wheel_drive</td>\n",
       "      <td>2.0</td>\n",
       "      <td>luxury,performance</td>\n",
       "      <td>midsize</td>\n",
       "      <td>convertible</td>\n",
       "      <td>31</td>\n",
       "      <td>20</td>\n",
       "      <td>3916</td>\n",
       "      <td>2</td>\n",
       "    </tr>\n",
       "    <tr>\n",
       "      <th>7146</th>\n",
       "      <td>volkswagen</td>\n",
       "      <td>beetle</td>\n",
       "      <td>2015</td>\n",
       "      <td>premium_unleaded_(recommended)</td>\n",
       "      <td>210.0</td>\n",
       "      <td>4.0</td>\n",
       "      <td>automated_manual</td>\n",
       "      <td>front_wheel_drive</td>\n",
       "      <td>2.0</td>\n",
       "      <td>hatchback,performance</td>\n",
       "      <td>compact</td>\n",
       "      <td>2dr_hatchback</td>\n",
       "      <td>30</td>\n",
       "      <td>24</td>\n",
       "      <td>873</td>\n",
       "      <td>2</td>\n",
       "    </tr>\n",
       "    <tr>\n",
       "      <th>7147</th>\n",
       "      <td>gmc</td>\n",
       "      <td>sierra_1500</td>\n",
       "      <td>2015</td>\n",
       "      <td>flex-fuel_(unleaded/e85)</td>\n",
       "      <td>285.0</td>\n",
       "      <td>6.0</td>\n",
       "      <td>automatic</td>\n",
       "      <td>four_wheel_drive</td>\n",
       "      <td>4.0</td>\n",
       "      <td>flex_fuel</td>\n",
       "      <td>large</td>\n",
       "      <td>extended_cab_pickup</td>\n",
       "      <td>22</td>\n",
       "      <td>17</td>\n",
       "      <td>549</td>\n",
       "      <td>2</td>\n",
       "    </tr>\n",
       "    <tr>\n",
       "      <th>7148</th>\n",
       "      <td>rolls-royce</td>\n",
       "      <td>ghost</td>\n",
       "      <td>2014</td>\n",
       "      <td>premium_unleaded_(required)</td>\n",
       "      <td>563.0</td>\n",
       "      <td>12.0</td>\n",
       "      <td>automatic</td>\n",
       "      <td>rear_wheel_drive</td>\n",
       "      <td>4.0</td>\n",
       "      <td>exotic,luxury,performance</td>\n",
       "      <td>large</td>\n",
       "      <td>sedan</td>\n",
       "      <td>21</td>\n",
       "      <td>13</td>\n",
       "      <td>86</td>\n",
       "      <td>3</td>\n",
       "    </tr>\n",
       "    <tr>\n",
       "      <th>7149</th>\n",
       "      <td>volkswagen</td>\n",
       "      <td>cc</td>\n",
       "      <td>2017</td>\n",
       "      <td>premium_unleaded_(recommended)</td>\n",
       "      <td>200.0</td>\n",
       "      <td>4.0</td>\n",
       "      <td>automated_manual</td>\n",
       "      <td>front_wheel_drive</td>\n",
       "      <td>4.0</td>\n",
       "      <td>performance</td>\n",
       "      <td>midsize</td>\n",
       "      <td>sedan</td>\n",
       "      <td>31</td>\n",
       "      <td>22</td>\n",
       "      <td>873</td>\n",
       "      <td>0</td>\n",
       "    </tr>\n",
       "  </tbody>\n",
       "</table>\n",
       "<p>7150 rows × 16 columns</p>\n",
       "</div>"
      ],
      "text/plain": [
       "             make        model  year                engine_fuel_type  \\\n",
       "0       chevrolet       cobalt  2008                regular_unleaded   \n",
       "1          toyota       matrix  2012                regular_unleaded   \n",
       "2          subaru      impreza  2016                regular_unleaded   \n",
       "3      volkswagen      vanagon  1991                regular_unleaded   \n",
       "4            ford        f-150  2017        flex-fuel_(unleaded/e85)   \n",
       "...           ...          ...   ...                             ...   \n",
       "7145          bmw     4_series  2015     premium_unleaded_(required)   \n",
       "7146   volkswagen       beetle  2015  premium_unleaded_(recommended)   \n",
       "7147          gmc  sierra_1500  2015        flex-fuel_(unleaded/e85)   \n",
       "7148  rolls-royce        ghost  2014     premium_unleaded_(required)   \n",
       "7149   volkswagen           cc  2017  premium_unleaded_(recommended)   \n",
       "\n",
       "      engine_hp  engine_cylinders transmission_type      driven_wheels  \\\n",
       "0         148.0               4.0            manual  front_wheel_drive   \n",
       "1         132.0               4.0         automatic  front_wheel_drive   \n",
       "2         148.0               4.0         automatic    all_wheel_drive   \n",
       "3          90.0               4.0            manual   rear_wheel_drive   \n",
       "4         385.0               8.0         automatic   four_wheel_drive   \n",
       "...         ...               ...               ...                ...   \n",
       "7145      300.0               6.0         automatic   rear_wheel_drive   \n",
       "7146      210.0               4.0  automated_manual  front_wheel_drive   \n",
       "7147      285.0               6.0         automatic   four_wheel_drive   \n",
       "7148      563.0              12.0         automatic   rear_wheel_drive   \n",
       "7149      200.0               4.0  automated_manual  front_wheel_drive   \n",
       "\n",
       "      number_of_doors            market_category vehicle_size  \\\n",
       "0                 2.0                        NaN      compact   \n",
       "1                 4.0                  hatchback      compact   \n",
       "2                 4.0                  hatchback      compact   \n",
       "3                 3.0                        NaN        large   \n",
       "4                 4.0                  flex_fuel        large   \n",
       "...               ...                        ...          ...   \n",
       "7145              2.0         luxury,performance      midsize   \n",
       "7146              2.0      hatchback,performance      compact   \n",
       "7147              4.0                  flex_fuel        large   \n",
       "7148              4.0  exotic,luxury,performance        large   \n",
       "7149              4.0                performance      midsize   \n",
       "\n",
       "            vehicle_style  highway_mpg  city_mpg  popularity  age  \n",
       "0                   coupe           33        24        1385    9  \n",
       "1           4dr_hatchback           32        25        2031    5  \n",
       "2           4dr_hatchback           37        28         640    1  \n",
       "3       passenger_minivan           18        16         873   26  \n",
       "4         crew_cab_pickup           21        15        5657    0  \n",
       "...                   ...          ...       ...         ...  ...  \n",
       "7145          convertible           31        20        3916    2  \n",
       "7146        2dr_hatchback           30        24         873    2  \n",
       "7147  extended_cab_pickup           22        17         549    2  \n",
       "7148                sedan           21        13          86    3  \n",
       "7149                sedan           31        22         873    0  \n",
       "\n",
       "[7150 rows x 16 columns]"
      ]
     },
     "execution_count": 323,
     "metadata": {},
     "output_type": "execute_result"
    }
   ],
   "source": [
    "df_train"
   ]
  },
  {
   "cell_type": "code",
   "execution_count": 324,
   "id": "a1ba61d2",
   "metadata": {},
   "outputs": [],
   "source": [
    "def prepare_X(df):\n",
    "\n",
    "    df = df.copy()\n",
    "    features = base.copy()\n",
    "\n",
    "    df['age'] = 2017 - df['year']\n",
    "    features.append('age')\n",
    "\n",
    "    df_num = df[features]\n",
    "    df_num = df_num.fillna(0)\n",
    "    X = df_num.values\n",
    "    return X"
   ]
  },
  {
   "cell_type": "markdown",
   "id": "a7e169f9",
   "metadata": {},
   "source": [
    "- We create a copy of the DataFrame df that we pass in the function. Later in the code, we modify df by adding extra rows in d.\n",
    "- This kind of behavior is known as a side effect: the caller of the function may not expect the function to change the DataFrame. To prevent the unpleasant surprise, we instead modify the copy of the original DataFrame."
   ]
  },
  {
   "cell_type": "markdown",
   "id": "64d159e7",
   "metadata": {},
   "source": [
    "- Let’s test if adding the feature “age” leads to any improvements:"
   ]
  },
  {
   "cell_type": "code",
   "execution_count": 326,
   "id": "d911f2ca",
   "metadata": {},
   "outputs": [
    {
     "name": "stdout",
     "output_type": "stream",
     "text": [
      "validation: 0.5172055461058299\n"
     ]
    }
   ],
   "source": [
    "X_train = prepare_X(df_train)\n",
    "w_0, w = train_linear_regression(X_train, y_train)\n",
    "\n",
    "X_val = prepare_X(df_validation)\n",
    "y_pred = w_0 + np.matmul(X_val, w)\n",
    "print('validation:', rmse(y_pred, y_validation))"
   ]
  },
  {
   "cell_type": "code",
   "execution_count": 328,
   "id": "0cb5a663",
   "metadata": {},
   "outputs": [
    {
     "data": {
      "image/png": "[encoded data removed]",
      "text/plain": [
       "<Figure size 640x480 with 1 Axes>"
      ]
     },
     "metadata": {},
     "output_type": "display_data"
    }
   ],
   "source": [
    "# Now let us look at the distribution of the predicted values vs actual values:\n",
    "sns.histplot(y_pred, bins = 50, color = 'red', label = 'predicted')\n",
    "sns.histplot(y_validation, bins = 50, color = 'blue', label = 'actual', alpha = 0.5)\n",
    "plt.legend()\n",
    "plt.title('Distribution of predicted vs actual')\n",
    "plt.show()"
   ]
  },
  {
   "cell_type": "markdown",
   "id": "89e0da7a",
   "metadata": {},
   "source": [
    "### Handling categorical variables"
   ]
  },
  {
   "cell_type": "markdown",
   "id": "34a73052",
   "metadata": {},
   "source": [
    "- We can use categorical variables in a machine learning model in multiple ways.\n",
    "- One of the simplest ways is to encode such variables by a set of binary features, with a separate feature for each distinct value."
   ]
  },
  {
   "cell_type": "code",
   "execution_count": 330,
   "id": "c4af857d",
   "metadata": {},
   "outputs": [
    {
     "data": {
      "text/plain": [
       "0    2.0\n",
       "1    2.0\n",
       "2    2.0\n",
       "3    2.0\n",
       "4    2.0\n",
       "Name: number_of_doors, dtype: float64"
      ]
     },
     "execution_count": 330,
     "metadata": {},
     "output_type": "execute_result"
    }
   ],
   "source": [
    "# Let us look at the categorical column of no of doors:\n",
    "df['number_of_doors'].head()"
   ]
  },
  {
   "cell_type": "code",
   "execution_count": 343,
   "id": "bd9478af",
   "metadata": {},
   "outputs": [
    {
     "data": {
      "text/plain": [
       "number_of_doors\n",
       "4.0    8353\n",
       "2.0    3160\n",
       "3.0     395\n",
       "Name: count, dtype: int64"
      ]
     },
     "execution_count": 343,
     "metadata": {},
     "output_type": "execute_result"
    }
   ],
   "source": [
    "df['number_of_doors'].value_counts()"
   ]
  },
  {
   "cell_type": "markdown",
   "id": "3d85ad88",
   "metadata": {},
   "source": [
    "- not that though this columns has the values of 2, 3 or 4, this is actually a categorical variable.\n",
    "- Instead of this one column, we will create 3 binary columns - is_2_doors, is_3_doors and is_4_doors."
   ]
  },
  {
   "cell_type": "code",
   "execution_count": 357,
   "id": "3b934cb1",
   "metadata": {},
   "outputs": [
    {
     "name": "stderr",
     "output_type": "stream",
     "text": [
      "C:\\Users\\devar\\AppData\\Local\\Temp\\ipykernel_26532\\3004930775.py:2: SettingWithCopyWarning: \n",
      "A value is trying to be set on a copy of a slice from a DataFrame.\n",
      "Try using .loc[row_indexer,col_indexer] = value instead\n",
      "\n",
      "See the caveats in the documentation: https://pandas.pydata.org/pandas-docs/stable/user_guide/indexing.html#returning-a-view-versus-a-copy\n",
      "  df_train['num_doors_%s' %value] = (df_train['number_of_doors'] == value).astype(int)\n",
      "C:\\Users\\devar\\AppData\\Local\\Temp\\ipykernel_26532\\3004930775.py:2: SettingWithCopyWarning: \n",
      "A value is trying to be set on a copy of a slice from a DataFrame.\n",
      "Try using .loc[row_indexer,col_indexer] = value instead\n",
      "\n",
      "See the caveats in the documentation: https://pandas.pydata.org/pandas-docs/stable/user_guide/indexing.html#returning-a-view-versus-a-copy\n",
      "  df_train['num_doors_%s' %value] = (df_train['number_of_doors'] == value).astype(int)\n",
      "C:\\Users\\devar\\AppData\\Local\\Temp\\ipykernel_26532\\3004930775.py:2: SettingWithCopyWarning: \n",
      "A value is trying to be set on a copy of a slice from a DataFrame.\n",
      "Try using .loc[row_indexer,col_indexer] = value instead\n",
      "\n",
      "See the caveats in the documentation: https://pandas.pydata.org/pandas-docs/stable/user_guide/indexing.html#returning-a-view-versus-a-copy\n",
      "  df_train['num_doors_%s' %value] = (df_train['number_of_doors'] == value).astype(int)\n"
     ]
    }
   ],
   "source": [
    "for value in [2, 3, 4]:\n",
    "    df_train['num_doors_%s' %value] = (df_train['number_of_doors'] == value).astype(int)"
   ]
  },
  {
   "cell_type": "markdown",
   "id": "924ebc81",
   "metadata": {},
   "source": [
    "- now, let us include the above idea into the preprocessing function."
   ]
  },
  {
   "cell_type": "code",
   "execution_count": 361,
   "id": "631f2887",
   "metadata": {},
   "outputs": [],
   "source": [
    "def prepare_X(df):\n",
    "    df = df.copy()\n",
    "    features = base.copy()\n",
    "\n",
    "    df['age'] = 2017 - df.year\n",
    "    features.append('age')\n",
    "    \n",
    "    for v in [2, 3, 4]:\n",
    "        feature = 'num_doors_%s' % v\n",
    "        df[feature] = (df['number_of_doors'] == v).astype(int)\n",
    "        features.append(feature)\n",
    "    \n",
    "    for v in ['chevrolet', 'ford', 'volkswagen', 'toyota', 'dodge']:\n",
    "        feature = 'is_make_%s' % v\n",
    "        df[feature] = (df['make'] == v).astype(int)\n",
    "        features.append(feature)\n",
    "    \n",
    "    df_num = df[features]\n",
    "    df_num = df_num.fillna(0)\n",
    "    X = df_num.values\n",
    "    \n",
    "    return X"
   ]
  },
  {
   "cell_type": "markdown",
   "id": "e6a853a4",
   "metadata": {},
   "source": [
    "- now let us see if this code improves the model:"
   ]
  },
  {
   "cell_type": "code",
   "execution_count": 362,
   "id": "1de218b4",
   "metadata": {},
   "outputs": [
    {
     "name": "stdout",
     "output_type": "stream",
     "text": [
      "validation: 0.5076038849556795\n"
     ]
    }
   ],
   "source": [
    "X_train = prepare_X(df_train)\n",
    "w_0, w = train_linear_regression(X_train, y_train)\n",
    "\n",
    "X_validation = prepare_X(df_validation)\n",
    "y_pred = w_0 + np.matmul(X_validation, w)\n",
    "print('validation:', rmse(y_pred, y_validation))"
   ]
  },
  {
   "cell_type": "markdown",
   "id": "abeaa5e3",
   "metadata": {},
   "source": [
    "- The previous value was 0.517, so we managed to improve the RMSE score further.\n",
    "- We can use a few more variables: engine_fuel_type, transmission_type, driven_wheels, market_category, vehicle_size, and vehicle_style. Let’s do the same thing for them. After the modifications, the prepare_X starts looking a bit more complex."
   ]
  },
  {
   "cell_type": "code",
   "execution_count": 363,
   "metadata": {},
   "outputs": [],
   "source": [
    "def prepare_X(df):\n",
    "    df = df.copy()\n",
    "    features = base.copy()\n",
    "\n",
    "    df['age'] = 2017 - df.year\n",
    "    features.append('age')\n",
    "\n",
    "    for v in [2, 3, 4]:\n",
    "        feature = 'num_doors_%s' % v\n",
    "        df[feature] = (df['number_of_doors'] == v).astype(int)\n",
    "        features.append(feature)\n",
    "\n",
    "    for v in ['chevrolet', 'ford', 'volkswagen', 'toyota', 'dodge']:\n",
    "        feature = 'is_make_%s' % v\n",
    "        df[feature] = (df['make'] == v).astype(int)\n",
    "        features.append(feature)\n",
    "\n",
    "    for v in ['regular_unleaded', 'premium_unleaded_(required)', 'premium_unleaded_(recommended)', 'flex-fuel_(unleaded/e85)']:\n",
    "        feature = 'is_type_%s' % v\n",
    "        df[feature] = (df['engine_fuel_type'] == v).astype(int)\n",
    "        features.append(feature)\n",
    "\n",
    "    for v in ['automatic', 'manual', 'automated_manual']:\n",
    "        feature = 'is_transmission_%s' % v\n",
    "        df[feature] = (df['transmission_type'] == v).astype(int)\n",
    "        features.append(feature)\n",
    "\n",
    "    for v in ['front_wheel_drive', 'rear_wheel_drive', 'all_wheel_drive', 'four_wheel_drive']:\n",
    "        feature = 'is_driven_wheels_%s' % v\n",
    "        df[feature] = (df['driven_wheels'] == v).astype(int)\n",
    "        features.append(feature)\n",
    "\n",
    "    for v in ['crossover', 'flex_fuel', 'luxury', 'luxury,performance', 'hatchback']:\n",
    "        feature = 'is_mc_%s' % v\n",
    "        df[feature] = (df['market_category'] == v).astype(int)\n",
    "        features.append(feature)\n",
    "\n",
    "    for v in ['compact', 'midsize', 'large']:\n",
    "        feature = 'is_size_%s' % v\n",
    "        df[feature] = (df['vehicle_size'] == v).astype(int)\n",
    "        features.append(feature)\n",
    "\n",
    "    for v in ['sedan', '4dr_suv', 'coupe', 'convertible', '4dr_hatchback']:\n",
    "        feature = 'is_style_%s' % v\n",
    "        df[feature] = (df['vehicle_style'] == v).astype(int)\n",
    "        features.append(feature)\n",
    "\n",
    "    df_num = df[features]\n",
    "    df_num = df_num.fillna(0)\n",
    "    X = df_num.values\n",
    "\n",
    "    return X"
   ]
  },
  {
   "cell_type": "markdown",
   "id": "100a9a2f",
   "metadata": {},
   "source": [
    "- now let us test it once more:"
   ]
  },
  {
   "cell_type": "code",
   "execution_count": 364,
   "metadata": {},
   "outputs": [
    {
     "name": "stdout",
     "output_type": "stream",
     "text": [
      "validation: 71.37786410717939\n"
     ]
    }
   ],
   "source": [
    "X_train = prepare_X(df_train)\n",
    "w_0, w = train_linear_regression(X_train, y_train)\n",
    "\n",
    "X_val = prepare_X(df_validation)\n",
    "y_pred = w_0 + np.matmul(X_val, w)\n",
    "print('validation:', rmse(y_pred, y_validation))"
   ]
  },
  {
   "cell_type": "markdown",
   "id": "164a803a",
   "metadata": {},
   "source": [
    "- this inclusion of a few more features into the model actually worsened the RMSE score a bit. This is because some of these features may not be very relevant for predicting the price of a car. We will need to do some feature selection to select only the relevant features.\n",
    "\n",
    "- In the next section, we will see why it happens and how to deal with it."
   ]
  },
  {
   "cell_type": "markdown",
   "id": "a58205d7",
   "metadata": {},
   "source": [
    "### Regularization"
   ]
  },
  {
   "cell_type": "markdown",
   "id": "4e4fc002",
   "metadata": {},
   "source": [
    "- Adding correlated features can make $X^TX$ nearly singular, causing **numerical instability** and exploding weights in linear regression. **Ridge regression** fixes this by adding a small value $\\alpha$ to the diagonal ($X^TX + \\alpha I$), ensuring the matrix is invertible and stabilizing the model."
   ]
  },
  {
   "cell_type": "markdown",
   "id": "f8c6acf1",
   "metadata": {},
   "source": [
    "- Let’s create a new function that uses this idea and implements linear regression with regularization."
   ]
  },
  {
   "cell_type": "code",
   "execution_count": 368,
   "metadata": {},
   "outputs": [],
   "source": [
    "def train_linear_regression_reg(X, y, r = 0):\n",
    "    # add dummy column of 1s to X:\n",
    "    ones = np.ones(X.shape[0])\n",
    "    X = np.column_stack((ones, X))\n",
    "\n",
    "    # add r to the main diagonal of X.T * X\n",
    "    XTX = np.matmul(X.T, X)\n",
    "    reg = r * np.identity(XTX.shape[0])\n",
    "    XTX = XTX + reg\n",
    "    \n",
    "    # calculate weights using the normal equation\n",
    "    w = np.linalg.inv(XTX).dot(X.T).dot(y)\n",
    "\n",
    "    return w[0], w[1:]"
   ]
  },
  {
   "cell_type": "markdown",
   "id": "fbaae30f",
   "metadata": {},
   "source": [
    "- extra parameter r that controls the amount of regularization — this corresponds to the number α in the formula that we add to the main diagonal of X TX.\n",
    "- Regularization affects the final solution by making the components of w smaller.\n",
    "- We can see that the more regularization we add, the smaller the weights become."
   ]
  },
  {
   "attachments": {
    "image.png": {
     "image/png": "[encoded data removed]"
    }
   },
   "cell_type": "markdown",
   "id": "129d7fc7",
   "metadata": {},
   "source": [
    "![image.png](attachment:image.png)"
   ]
  },
  {
   "cell_type": "markdown",
   "id": "6ab28d35",
   "metadata": {},
   "source": [
    "- Now let’s check whether regularization helps with our problem and what RMSE we get after that. Let’s run it with r=0.001:"
   ]
  },
  {
   "cell_type": "code",
   "execution_count": 369,
   "id": "c76e4331",
   "metadata": {},
   "outputs": [
    {
     "name": "stdout",
     "output_type": "stream",
     "text": [
      "validation: 0.46022676273364194\n"
     ]
    }
   ],
   "source": [
    "X_train = prepare_X(df_train)\n",
    "w_0, w = train_linear_regression_reg(X_train, y_train, r = 0.001)\n",
    "\n",
    "X_val = prepare_X(df_validation)\n",
    "y_pred = w_0 + np.matmul(X_val, w)\n",
    "print('validation:', rmse(y_pred, y_validation))"
   ]
  },
  {
   "cell_type": "markdown",
   "id": "dd9da712",
   "metadata": {},
   "source": [
    "- Sometimes, when adding a new feature causes performance degradation, simply removing this feature may be enough to solve the problem. \n",
    "- Having a validation dataset is important to decide whether to add regularization, remove the feature, or do both: we use the score on the validation data to choose the best option. \n",
    "- In our particular case, we see that adding regularization helps: it improves the score we had previously."
   ]
  },
  {
   "cell_type": "markdown",
   "id": "a1589b00",
   "metadata": {},
   "source": [
    "### Tunning the model"
   ]
  },
  {
   "cell_type": "markdown",
   "id": "c7b446ab",
   "metadata": {},
   "source": [
    "- We tried using r=0.001, but we should try other values as well. Let’s try a couple of different ones to select the best parameter r:"
   ]
  },
  {
   "cell_type": "code",
   "execution_count": 370,
   "id": "6718659c",
   "metadata": {},
   "outputs": [
    {
     "name": "stdout",
     "output_type": "stream",
     "text": [
      " 1e-06 0.4602254842478849\n",
      "0.0001 0.4602254932133925\n",
      " 0.001 0.46022676273364194\n",
      "  0.01 0.46023949636591693\n",
      "   0.1 0.4603700695794901\n",
      "     1 0.46182980426474285\n",
      "     5 0.46840796275311086\n",
      "    10 0.4757248100694009\n"
     ]
    }
   ],
   "source": [
    "X_train = prepare_X(df_train)\n",
    "X_val = prepare_X(df_validation)\n",
    "for r in [0.000001, 0.0001, 0.001, 0.01, 0.1, 1, 5, 10]:\n",
    "    w_0, w = train_linear_regression_reg(X_train, y_train, r=r)\n",
    "    y_pred = w_0 + X_val.dot(w)\n",
    "    print('%6s' %r, rmse(y_pred, y_validation))"
   ]
  },
  {
   "cell_type": "markdown",
   "id": "b0fe6677",
   "metadata": {},
   "source": [
    "- The performance for values below 0.1 don’t change much except in the sixth digit, which we shouldn’t consider to be significant."
   ]
  },
  {
   "cell_type": "markdown",
   "id": "a3c77139",
   "metadata": {},
   "source": [
    "- Let’s take the model with r=0.01 as the final model. Now we can check it against the test dataset to verify if the model works:"
   ]
  },
  {
   "cell_type": "code",
   "execution_count": 371,
   "metadata": {},
   "outputs": [
    {
     "name": "stdout",
     "output_type": "stream",
     "text": [
      "validation: 0.46023949636591693\n",
      "test: 0.4571813679733763\n"
     ]
    }
   ],
   "source": [
    "X_train = prepare_X(df_train)\n",
    "w_0, w = train_linear_regression_reg(X_train, y_train, r=0.01)\n",
    "\n",
    "X_val = prepare_X(df_validation)\n",
    "y_pred = w_0 + X_val.dot(w)\n",
    "print('validation:', rmse(y_pred, y_validation))\n",
    "\n",
    "X_test = prepare_X(df_test)\n",
    "y_pred = w_0 + X_test.dot(w)\n",
    "print('test:', rmse(y_pred, y_test))"
   ]
  },
  {
   "cell_type": "markdown",
   "id": "6efbd04a",
   "metadata": {},
   "source": [
    "- As these two numbers are pretty close, we conclude that the model can generalize well to the new unseen data.\n",
    "- We could have also concatenated the df_train and df_validation datasets and trained the model on the whole data."
   ]
  },
  {
   "cell_type": "markdown",
   "id": "4d10ccb1",
   "metadata": {},
   "source": [
    "### Using the model"
   ]
  },
  {
   "cell_type": "code",
   "execution_count": 380,
   "id": "dae7fe00",
   "metadata": {},
   "outputs": [],
   "source": [
    "ad = {\n",
    "        'city_mpg': 18,\n",
    "        'driven_wheels': 'all_wheel_drive',\n",
    "        'engine_cylinders': 6.0,\n",
    "        'engine_fuel_type': 'regular_unleaded',\n",
    "        'engine_hp': 268.0,\n",
    "        'highway_mpg': 25,\n",
    "        'make': 'toyota',\n",
    "        'market_category': 'crossover,performance',\n",
    "        'model': 'venza',\n",
    "        'number_of_doors': 4.0,\n",
    "        'popularity': 2031,\n",
    "        'transmission_type': 'automatic',\n",
    "        'vehicle_size': 'midsize',\n",
    "        'vehicle_style': 'wagon',\n",
    "        'year': 2013\n",
    "}"
   ]
  },
  {
   "cell_type": "code",
   "execution_count": 373,
   "metadata": {},
   "outputs": [
    {
     "data": {
      "text/html": [
       "<div>\n",
       "<style scoped>\n",
       "    .dataframe tbody tr th:only-of-type {\n",
       "        vertical-align: middle;\n",
       "    }\n",
       "\n",
       "    .dataframe tbody tr th {\n",
       "        vertical-align: top;\n",
       "    }\n",
       "\n",
       "    .dataframe thead th {\n",
       "        text-align: right;\n",
       "    }\n",
       "</style>\n",
       "<table border=\"1\" class=\"dataframe\">\n",
       "  <thead>\n",
       "    <tr style=\"text-align: right;\">\n",
       "      <th></th>\n",
       "      <th>city_mpg</th>\n",
       "      <th>driven_wheels</th>\n",
       "      <th>engine_cylinders</th>\n",
       "      <th>engine_fuel_type</th>\n",
       "      <th>engine_hp</th>\n",
       "      <th>highway_mpg</th>\n",
       "      <th>make</th>\n",
       "      <th>market_category</th>\n",
       "      <th>model</th>\n",
       "      <th>number_of_doors</th>\n",
       "      <th>popularity</th>\n",
       "      <th>transmission_type</th>\n",
       "      <th>vehicle_size</th>\n",
       "      <th>vehicle_style</th>\n",
       "      <th>year</th>\n",
       "    </tr>\n",
       "  </thead>\n",
       "  <tbody>\n",
       "    <tr>\n",
       "      <th>0</th>\n",
       "      <td>18</td>\n",
       "      <td>all_wheel_drive</td>\n",
       "      <td>6.0</td>\n",
       "      <td>regular_unleaded</td>\n",
       "      <td>268.0</td>\n",
       "      <td>25</td>\n",
       "      <td>toyota</td>\n",
       "      <td>crossover,performance</td>\n",
       "      <td>venza</td>\n",
       "      <td>4.0</td>\n",
       "      <td>2031</td>\n",
       "      <td>automatic</td>\n",
       "      <td>midsize</td>\n",
       "      <td>wagon</td>\n",
       "      <td>2013</td>\n",
       "    </tr>\n",
       "  </tbody>\n",
       "</table>\n",
       "</div>"
      ],
      "text/plain": [
       "   city_mpg    driven_wheels  engine_cylinders  engine_fuel_type  engine_hp  \\\n",
       "0        18  all_wheel_drive               6.0  regular_unleaded      268.0   \n",
       "\n",
       "   highway_mpg    make        market_category  model  number_of_doors  \\\n",
       "0           25  toyota  crossover,performance  venza              4.0   \n",
       "\n",
       "   popularity transmission_type vehicle_size vehicle_style  year  \n",
       "0        2031         automatic      midsize         wagon  2013  "
      ]
     },
     "execution_count": 373,
     "metadata": {},
     "output_type": "execute_result"
    }
   ],
   "source": [
    "df_test_case = pd.DataFrame([ad])\n",
    "df_test_case"
   ]
  },
  {
   "cell_type": "code",
   "execution_count": 379,
   "metadata": {},
   "outputs": [
    {
     "name": "stdout",
     "output_type": "stream",
     "text": [
      "The predicted price of the car is: $ 28294.14\n"
     ]
    }
   ],
   "source": [
    "X_test_case = prepare_X(df_test_case)\n",
    "\n",
    "y_pred = w_0 + X_test_case.dot(w)\n",
    "\n",
    "predicted_price = np.expm1(y_pred)[0]\n",
    "\n",
    "print(f'The predicted price of the car is: $ {predicted_price.round(2)}')"
   ]
  },
  {
   "cell_type": "markdown",
   "id": "2af2cbe7",
   "metadata": {},
   "source": [
    "- The output is 28,294.13. The real price of this car is $31,120, so our model is not far from the actual price."
   ]
  },
  {
   "cell_type": "code",
   "execution_count": null,
   "metadata": {},
   "outputs": [],
   "source": []
  }
 ],
 "metadata": {
  "kernelspec": {
   "display_name": "venv",
   "language": "python",
   "name": "python3"
  },
  "language_info": {
   "codemirror_mode": {
    "name": "ipython",
    "version": 3
   },
   "file_extension": ".py",
   "mimetype": "text/x-python",
   "name": "python",
   "nbconvert_exporter": "python",
   "pygments_lexer": "ipython3",
   "version": "3.11.9"
  }
 },
 "nbformat": 4,
 "nbformat_minor": 5
}
