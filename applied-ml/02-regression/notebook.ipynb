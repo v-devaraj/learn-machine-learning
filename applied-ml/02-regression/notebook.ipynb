{
 "cells": [
  {
   "cell_type": "markdown",
   "id": "3d72b9cb",
   "metadata": {},
   "source": [
    "# Machine Learning for Regression- Car price prediction"
   ]
  },
  {
   "cell_type": "code",
   "execution_count": 2,
   "id": "081f1106",
   "metadata": {},
   "outputs": [],
   "source": [
    "# import dependencies\n",
    "import numpy as np\n",
    "import pandas as pd\n",
    "import matplotlib.pyplot as plt\n",
    "import seaborn as sns"
   ]
  },
  {
   "cell_type": "markdown",
   "id": "b9842aba",
   "metadata": {},
   "source": [
    "Data preparation"
   ]
  },
  {
   "cell_type": "code",
   "execution_count": null,
   "id": "f030b03c",
   "metadata": {},
   "outputs": [],
   "source": [
    "url = r'C:\\Users\\devar\\Documents\\github-repositories\\learn-machine-learning\\applied-ml\\02-regression\\data\\data.csv'"
   ]
  },
  {
   "cell_type": "code",
   "execution_count": null,
   "id": "4fb8f5af",
   "metadata": {},
   "outputs": [],
   "source": []
  },
  {
   "cell_type": "code",
   "execution_count": null,
   "id": "59e2d78c",
   "metadata": {},
   "outputs": [],
   "source": []
  },
  {
   "cell_type": "code",
   "execution_count": null,
   "metadata": {},
   "outputs": [],
   "source": []
  },
  {
   "cell_type": "code",
   "execution_count": null,
   "id": "af1daac2",
   "metadata": {},
   "outputs": [],
   "source": []
  },
  {
   "cell_type": "code",
   "execution_count": null,
   "id": "86e84f95",
   "metadata": {},
   "outputs": [],
   "source": []
  }
 ],
 "metadata": {
  "kernelspec": {
   "display_name": "venv",
   "language": "python",
   "name": "python3"
  },
  "language_info": {
   "codemirror_mode": {
    "name": "ipython",
    "version": 3
   },
   "file_extension": ".py",
   "mimetype": "text/x-python",
   "name": "python",
   "nbconvert_exporter": "python",
   "pygments_lexer": "ipython3",
   "version": "3.11.9"
  }
 },
 "nbformat": 4,
 "nbformat_minor": 5
}
